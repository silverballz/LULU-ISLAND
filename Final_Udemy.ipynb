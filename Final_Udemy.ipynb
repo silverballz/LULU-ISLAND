{
  "nbformat": 4,
  "nbformat_minor": 0,
  "metadata": {
    "colab": {
      "provenance": [],
      "mount_file_id": "1AbwuZHvM9Ot6zBJhopl93B8-XFYjOZOi",
      "authorship_tag": "ABX9TyNsdvOwihs4RuEWA6YILXQR",
      "include_colab_link": true
    },
    "kernelspec": {
      "name": "python3",
      "display_name": "Python 3"
    },
    "language_info": {
      "name": "python"
    }
  },
  "cells": [
    {
      "cell_type": "markdown",
      "metadata": {
        "id": "view-in-github",
        "colab_type": "text"
      },
      "source": [
        "<a href=\"https://colab.research.google.com/github/silverballz/LULU-ISLAND/blob/main/Final_Udemy.ipynb\" target=\"_parent\"><img src=\"https://colab.research.google.com/assets/colab-badge.svg\" alt=\"Open In Colab\"/></a>"
      ]
    },
    {
      "cell_type": "markdown",
      "source": [
        "#Udemy Course Enrollment Analysis\n",
        "\n",
        "This dataset includes courses from Udemy. Udemy is a massive online open course (MOOC) platform that offers both free and paid courses. Anybody can create a course, a business model by which allowed Udemy to have hundreds of thousands of courses. Nowadays, the demand for online courses and digital learning are rising. And, more number of students, teachers, and even professionals are learning from online course platforms, like Udemy, Coursera and et cetera.\n",
        "\n",
        "So, to understand the course enrollment in Udemy platform, this data analysis is performed. We are going to predict the following:\n",
        "\n",
        "\n",
        "\n",
        "*   Courses and Categories with the Maximum/Minimum enrollments and ratings.\n",
        "*   The correlation between Number of Subscribers and the number of ratings for the 2000 most popular courses through filteration and curating of the dataset.\n",
        "\n"
      ],
      "metadata": {
        "id": "MwPrwvWzrHtR"
      }
    },
    {
      "cell_type": "markdown",
      "metadata": {
        "id": "5WOHjG3HrEBw"
      },
      "source": [
        "### Importing the necessary packages"
      ]
    },
    {
      "cell_type": "code",
      "execution_count": 56,
      "metadata": {
        "id": "I1ij0XKUrEBw"
      },
      "outputs": [],
      "source": [
        "import numpy as np\n",
        "import pandas as pd\n",
        "import matplotlib.pyplot as  plt\n",
        "import seaborn as sns"
      ]
    },
    {
      "cell_type": "code",
      "source": [
        "from google.colab import drive\n",
        "drive.mount('/content/drive')"
      ],
      "metadata": {
        "id": "Dbuw-fI7r5YO",
        "colab": {
          "base_uri": "https://localhost:8080/"
        },
        "outputId": "98be858d-7e57-4e06-934d-b0ddb298276b"
      },
      "execution_count": 57,
      "outputs": [
        {
          "output_type": "stream",
          "name": "stdout",
          "text": [
            "Drive already mounted at /content/drive; to attempt to forcibly remount, call drive.mount(\"/content/drive\", force_remount=True).\n"
          ]
        }
      ]
    },
    {
      "cell_type": "code",
      "execution_count": 58,
      "metadata": {
        "id": "9mNH1NzTq3SP"
      },
      "outputs": [],
      "source": [
        "df = pd.read_csv(\"/content/drive/MyDrive/udemy_courses.csv\")"
      ]
    },
    {
      "cell_type": "code",
      "source": [
        "df.shape"
      ],
      "metadata": {
        "colab": {
          "base_uri": "https://localhost:8080/"
        },
        "id": "gkftdXqItQCy",
        "outputId": "7ab8ece9-8fca-4e09-b1df-b08125fedff4"
      },
      "execution_count": 59,
      "outputs": [
        {
          "output_type": "execute_result",
          "data": {
            "text/plain": [
              "(98104, 13)"
            ]
          },
          "metadata": {},
          "execution_count": 59
        }
      ]
    },
    {
      "cell_type": "code",
      "source": [
        "df.info()"
      ],
      "metadata": {
        "colab": {
          "base_uri": "https://localhost:8080/"
        },
        "id": "Y82xbavdtYBX",
        "outputId": "382966a4-06f1-491b-a26d-7d93eb087289"
      },
      "execution_count": 60,
      "outputs": [
        {
          "output_type": "stream",
          "name": "stdout",
          "text": [
            "<class 'pandas.core.frame.DataFrame'>\n",
            "RangeIndex: 98104 entries, 0 to 98103\n",
            "Data columns (total 13 columns):\n",
            " #   Column               Non-Null Count  Dtype  \n",
            "---  ------               --------------  -----  \n",
            " 0   id                   98104 non-null  int64  \n",
            " 1   title                98104 non-null  object \n",
            " 2   url                  98104 non-null  object \n",
            " 3   is_paid              98104 non-null  bool   \n",
            " 4   instructor_names     98102 non-null  object \n",
            " 5   category             98104 non-null  object \n",
            " 6   headline             98104 non-null  object \n",
            " 7   num_subscribers      98104 non-null  int64  \n",
            " 8   rating               98104 non-null  float64\n",
            " 9   num_reviews          98104 non-null  int64  \n",
            " 10  instructional_level  98104 non-null  object \n",
            " 11  objectives           98104 non-null  object \n",
            " 12  curriculum           98104 non-null  object \n",
            "dtypes: bool(1), float64(1), int64(3), object(8)\n",
            "memory usage: 9.1+ MB\n"
          ]
        }
      ]
    },
    {
      "cell_type": "code",
      "source": [
        "df.drop([\"id\",\"url\",\"is_paid\",\"headline\",\"objectives\",\"curriculum\"],axis=\"columns\")"
      ],
      "metadata": {
        "colab": {
          "base_uri": "https://localhost:8080/",
          "height": 580
        },
        "id": "lI4aeLENtgMM",
        "outputId": "25e664f5-5b1b-456b-9a98-69a82900e22e"
      },
      "execution_count": 61,
      "outputs": [
        {
          "output_type": "execute_result",
          "data": {
            "text/plain": [
              "                                                   title  \\\n",
              "0      The Complete Python Bootcamp From Zero to Hero...   \n",
              "1             The Complete 2024 Web Development Bootcamp   \n",
              "2      100 Days of Code: The Complete Python Pro Boot...   \n",
              "3                        The Web Developer Bootcamp 2024   \n",
              "4      React - The Complete Guide 2024 (incl. Next.js...   \n",
              "...                                                  ...   \n",
              "98099  LinkedIn Career Success Starter for High Schoo...   \n",
              "98100  2 Minute French Whisperer Advanced - Course 4 ...   \n",
              "98101                   Introduction to Biology of Aging   \n",
              "98102  Mastering Schematics Electrical Drawings Episo...   \n",
              "98103  Understanding RC  Resonant Circuits and Passiv...   \n",
              "\n",
              "                                        instructor_names  \\\n",
              "0                        Jose Portilla, Pierian Training   \n",
              "1           Dr. Angela Yu, Developer and Lead Instructor   \n",
              "2           Dr. Angela Yu, Developer and Lead Instructor   \n",
              "3                                            Colt Steele   \n",
              "4      Academind by Maximilian Schwarzmüller, Maximil...   \n",
              "...                                                  ...   \n",
              "98099                                   Barbara Rozgonyi   \n",
              "98100                                   Christian Aubert   \n",
              "98101                              Dr. Gabriele Morabito   \n",
              "98102                                  Elite Engineering   \n",
              "98103                                     albert spinosa   \n",
              "\n",
              "                   category  num_subscribers    rating  num_reviews  \\\n",
              "0               Development          1976866  4.576494       521219   \n",
              "1               Development          1362586  4.679065       409793   \n",
              "2               Development          1417942  4.698768       331803   \n",
              "3               Development           923815  4.673450       276723   \n",
              "4               Development           909848  4.638643       220051   \n",
              "...                     ...              ...       ...          ...   \n",
              "98099  Teaching & Academics               60  4.256361            4   \n",
              "98100  Teaching & Academics              117  5.000000            4   \n",
              "98101  Teaching & Academics                6  5.000000            4   \n",
              "98102  Teaching & Academics               49  4.088524            4   \n",
              "98103  Teaching & Academics               41  4.788831            4   \n",
              "\n",
              "      instructional_level  \n",
              "0              All Levels  \n",
              "1              All Levels  \n",
              "2              All Levels  \n",
              "3              All Levels  \n",
              "4              All Levels  \n",
              "...                   ...  \n",
              "98099      Beginner Level  \n",
              "98100  Intermediate Level  \n",
              "98101          All Levels  \n",
              "98102  Intermediate Level  \n",
              "98103  Intermediate Level  \n",
              "\n",
              "[98104 rows x 7 columns]"
            ],
            "text/html": [
              "\n",
              "  <div id=\"df-a7f9e2ae-5db9-418d-991a-1dcdf5e07c5d\" class=\"colab-df-container\">\n",
              "    <div>\n",
              "<style scoped>\n",
              "    .dataframe tbody tr th:only-of-type {\n",
              "        vertical-align: middle;\n",
              "    }\n",
              "\n",
              "    .dataframe tbody tr th {\n",
              "        vertical-align: top;\n",
              "    }\n",
              "\n",
              "    .dataframe thead th {\n",
              "        text-align: right;\n",
              "    }\n",
              "</style>\n",
              "<table border=\"1\" class=\"dataframe\">\n",
              "  <thead>\n",
              "    <tr style=\"text-align: right;\">\n",
              "      <th></th>\n",
              "      <th>title</th>\n",
              "      <th>instructor_names</th>\n",
              "      <th>category</th>\n",
              "      <th>num_subscribers</th>\n",
              "      <th>rating</th>\n",
              "      <th>num_reviews</th>\n",
              "      <th>instructional_level</th>\n",
              "    </tr>\n",
              "  </thead>\n",
              "  <tbody>\n",
              "    <tr>\n",
              "      <th>0</th>\n",
              "      <td>The Complete Python Bootcamp From Zero to Hero...</td>\n",
              "      <td>Jose Portilla, Pierian Training</td>\n",
              "      <td>Development</td>\n",
              "      <td>1976866</td>\n",
              "      <td>4.576494</td>\n",
              "      <td>521219</td>\n",
              "      <td>All Levels</td>\n",
              "    </tr>\n",
              "    <tr>\n",
              "      <th>1</th>\n",
              "      <td>The Complete 2024 Web Development Bootcamp</td>\n",
              "      <td>Dr. Angela Yu, Developer and Lead Instructor</td>\n",
              "      <td>Development</td>\n",
              "      <td>1362586</td>\n",
              "      <td>4.679065</td>\n",
              "      <td>409793</td>\n",
              "      <td>All Levels</td>\n",
              "    </tr>\n",
              "    <tr>\n",
              "      <th>2</th>\n",
              "      <td>100 Days of Code: The Complete Python Pro Boot...</td>\n",
              "      <td>Dr. Angela Yu, Developer and Lead Instructor</td>\n",
              "      <td>Development</td>\n",
              "      <td>1417942</td>\n",
              "      <td>4.698768</td>\n",
              "      <td>331803</td>\n",
              "      <td>All Levels</td>\n",
              "    </tr>\n",
              "    <tr>\n",
              "      <th>3</th>\n",
              "      <td>The Web Developer Bootcamp 2024</td>\n",
              "      <td>Colt Steele</td>\n",
              "      <td>Development</td>\n",
              "      <td>923815</td>\n",
              "      <td>4.673450</td>\n",
              "      <td>276723</td>\n",
              "      <td>All Levels</td>\n",
              "    </tr>\n",
              "    <tr>\n",
              "      <th>4</th>\n",
              "      <td>React - The Complete Guide 2024 (incl. Next.js...</td>\n",
              "      <td>Academind by Maximilian Schwarzmüller, Maximil...</td>\n",
              "      <td>Development</td>\n",
              "      <td>909848</td>\n",
              "      <td>4.638643</td>\n",
              "      <td>220051</td>\n",
              "      <td>All Levels</td>\n",
              "    </tr>\n",
              "    <tr>\n",
              "      <th>...</th>\n",
              "      <td>...</td>\n",
              "      <td>...</td>\n",
              "      <td>...</td>\n",
              "      <td>...</td>\n",
              "      <td>...</td>\n",
              "      <td>...</td>\n",
              "      <td>...</td>\n",
              "    </tr>\n",
              "    <tr>\n",
              "      <th>98099</th>\n",
              "      <td>LinkedIn Career Success Starter for High Schoo...</td>\n",
              "      <td>Barbara Rozgonyi</td>\n",
              "      <td>Teaching &amp; Academics</td>\n",
              "      <td>60</td>\n",
              "      <td>4.256361</td>\n",
              "      <td>4</td>\n",
              "      <td>Beginner Level</td>\n",
              "    </tr>\n",
              "    <tr>\n",
              "      <th>98100</th>\n",
              "      <td>2 Minute French Whisperer Advanced - Course 4 ...</td>\n",
              "      <td>Christian Aubert</td>\n",
              "      <td>Teaching &amp; Academics</td>\n",
              "      <td>117</td>\n",
              "      <td>5.000000</td>\n",
              "      <td>4</td>\n",
              "      <td>Intermediate Level</td>\n",
              "    </tr>\n",
              "    <tr>\n",
              "      <th>98101</th>\n",
              "      <td>Introduction to Biology of Aging</td>\n",
              "      <td>Dr. Gabriele Morabito</td>\n",
              "      <td>Teaching &amp; Academics</td>\n",
              "      <td>6</td>\n",
              "      <td>5.000000</td>\n",
              "      <td>4</td>\n",
              "      <td>All Levels</td>\n",
              "    </tr>\n",
              "    <tr>\n",
              "      <th>98102</th>\n",
              "      <td>Mastering Schematics Electrical Drawings Episo...</td>\n",
              "      <td>Elite Engineering</td>\n",
              "      <td>Teaching &amp; Academics</td>\n",
              "      <td>49</td>\n",
              "      <td>4.088524</td>\n",
              "      <td>4</td>\n",
              "      <td>Intermediate Level</td>\n",
              "    </tr>\n",
              "    <tr>\n",
              "      <th>98103</th>\n",
              "      <td>Understanding RC  Resonant Circuits and Passiv...</td>\n",
              "      <td>albert spinosa</td>\n",
              "      <td>Teaching &amp; Academics</td>\n",
              "      <td>41</td>\n",
              "      <td>4.788831</td>\n",
              "      <td>4</td>\n",
              "      <td>Intermediate Level</td>\n",
              "    </tr>\n",
              "  </tbody>\n",
              "</table>\n",
              "<p>98104 rows × 7 columns</p>\n",
              "</div>\n",
              "    <div class=\"colab-df-buttons\">\n",
              "\n",
              "  <div class=\"colab-df-container\">\n",
              "    <button class=\"colab-df-convert\" onclick=\"convertToInteractive('df-a7f9e2ae-5db9-418d-991a-1dcdf5e07c5d')\"\n",
              "            title=\"Convert this dataframe to an interactive table.\"\n",
              "            style=\"display:none;\">\n",
              "\n",
              "  <svg xmlns=\"http://www.w3.org/2000/svg\" height=\"24px\" viewBox=\"0 -960 960 960\">\n",
              "    <path d=\"M120-120v-720h720v720H120Zm60-500h600v-160H180v160Zm220 220h160v-160H400v160Zm0 220h160v-160H400v160ZM180-400h160v-160H180v160Zm440 0h160v-160H620v160ZM180-180h160v-160H180v160Zm440 0h160v-160H620v160Z\"/>\n",
              "  </svg>\n",
              "    </button>\n",
              "\n",
              "  <style>\n",
              "    .colab-df-container {\n",
              "      display:flex;\n",
              "      gap: 12px;\n",
              "    }\n",
              "\n",
              "    .colab-df-convert {\n",
              "      background-color: #E8F0FE;\n",
              "      border: none;\n",
              "      border-radius: 50%;\n",
              "      cursor: pointer;\n",
              "      display: none;\n",
              "      fill: #1967D2;\n",
              "      height: 32px;\n",
              "      padding: 0 0 0 0;\n",
              "      width: 32px;\n",
              "    }\n",
              "\n",
              "    .colab-df-convert:hover {\n",
              "      background-color: #E2EBFA;\n",
              "      box-shadow: 0px 1px 2px rgba(60, 64, 67, 0.3), 0px 1px 3px 1px rgba(60, 64, 67, 0.15);\n",
              "      fill: #174EA6;\n",
              "    }\n",
              "\n",
              "    .colab-df-buttons div {\n",
              "      margin-bottom: 4px;\n",
              "    }\n",
              "\n",
              "    [theme=dark] .colab-df-convert {\n",
              "      background-color: #3B4455;\n",
              "      fill: #D2E3FC;\n",
              "    }\n",
              "\n",
              "    [theme=dark] .colab-df-convert:hover {\n",
              "      background-color: #434B5C;\n",
              "      box-shadow: 0px 1px 3px 1px rgba(0, 0, 0, 0.15);\n",
              "      filter: drop-shadow(0px 1px 2px rgba(0, 0, 0, 0.3));\n",
              "      fill: #FFFFFF;\n",
              "    }\n",
              "  </style>\n",
              "\n",
              "    <script>\n",
              "      const buttonEl =\n",
              "        document.querySelector('#df-a7f9e2ae-5db9-418d-991a-1dcdf5e07c5d button.colab-df-convert');\n",
              "      buttonEl.style.display =\n",
              "        google.colab.kernel.accessAllowed ? 'block' : 'none';\n",
              "\n",
              "      async function convertToInteractive(key) {\n",
              "        const element = document.querySelector('#df-a7f9e2ae-5db9-418d-991a-1dcdf5e07c5d');\n",
              "        const dataTable =\n",
              "          await google.colab.kernel.invokeFunction('convertToInteractive',\n",
              "                                                    [key], {});\n",
              "        if (!dataTable) return;\n",
              "\n",
              "        const docLinkHtml = 'Like what you see? Visit the ' +\n",
              "          '<a target=\"_blank\" href=https://colab.research.google.com/notebooks/data_table.ipynb>data table notebook</a>'\n",
              "          + ' to learn more about interactive tables.';\n",
              "        element.innerHTML = '';\n",
              "        dataTable['output_type'] = 'display_data';\n",
              "        await google.colab.output.renderOutput(dataTable, element);\n",
              "        const docLink = document.createElement('div');\n",
              "        docLink.innerHTML = docLinkHtml;\n",
              "        element.appendChild(docLink);\n",
              "      }\n",
              "    </script>\n",
              "  </div>\n",
              "\n",
              "\n",
              "<div id=\"df-60734672-310a-4ac6-9b0d-45f8ec3a1e85\">\n",
              "  <button class=\"colab-df-quickchart\" onclick=\"quickchart('df-60734672-310a-4ac6-9b0d-45f8ec3a1e85')\"\n",
              "            title=\"Suggest charts\"\n",
              "            style=\"display:none;\">\n",
              "\n",
              "<svg xmlns=\"http://www.w3.org/2000/svg\" height=\"24px\"viewBox=\"0 0 24 24\"\n",
              "     width=\"24px\">\n",
              "    <g>\n",
              "        <path d=\"M19 3H5c-1.1 0-2 .9-2 2v14c0 1.1.9 2 2 2h14c1.1 0 2-.9 2-2V5c0-1.1-.9-2-2-2zM9 17H7v-7h2v7zm4 0h-2V7h2v10zm4 0h-2v-4h2v4z\"/>\n",
              "    </g>\n",
              "</svg>\n",
              "  </button>\n",
              "\n",
              "<style>\n",
              "  .colab-df-quickchart {\n",
              "      --bg-color: #E8F0FE;\n",
              "      --fill-color: #1967D2;\n",
              "      --hover-bg-color: #E2EBFA;\n",
              "      --hover-fill-color: #174EA6;\n",
              "      --disabled-fill-color: #AAA;\n",
              "      --disabled-bg-color: #DDD;\n",
              "  }\n",
              "\n",
              "  [theme=dark] .colab-df-quickchart {\n",
              "      --bg-color: #3B4455;\n",
              "      --fill-color: #D2E3FC;\n",
              "      --hover-bg-color: #434B5C;\n",
              "      --hover-fill-color: #FFFFFF;\n",
              "      --disabled-bg-color: #3B4455;\n",
              "      --disabled-fill-color: #666;\n",
              "  }\n",
              "\n",
              "  .colab-df-quickchart {\n",
              "    background-color: var(--bg-color);\n",
              "    border: none;\n",
              "    border-radius: 50%;\n",
              "    cursor: pointer;\n",
              "    display: none;\n",
              "    fill: var(--fill-color);\n",
              "    height: 32px;\n",
              "    padding: 0;\n",
              "    width: 32px;\n",
              "  }\n",
              "\n",
              "  .colab-df-quickchart:hover {\n",
              "    background-color: var(--hover-bg-color);\n",
              "    box-shadow: 0 1px 2px rgba(60, 64, 67, 0.3), 0 1px 3px 1px rgba(60, 64, 67, 0.15);\n",
              "    fill: var(--button-hover-fill-color);\n",
              "  }\n",
              "\n",
              "  .colab-df-quickchart-complete:disabled,\n",
              "  .colab-df-quickchart-complete:disabled:hover {\n",
              "    background-color: var(--disabled-bg-color);\n",
              "    fill: var(--disabled-fill-color);\n",
              "    box-shadow: none;\n",
              "  }\n",
              "\n",
              "  .colab-df-spinner {\n",
              "    border: 2px solid var(--fill-color);\n",
              "    border-color: transparent;\n",
              "    border-bottom-color: var(--fill-color);\n",
              "    animation:\n",
              "      spin 1s steps(1) infinite;\n",
              "  }\n",
              "\n",
              "  @keyframes spin {\n",
              "    0% {\n",
              "      border-color: transparent;\n",
              "      border-bottom-color: var(--fill-color);\n",
              "      border-left-color: var(--fill-color);\n",
              "    }\n",
              "    20% {\n",
              "      border-color: transparent;\n",
              "      border-left-color: var(--fill-color);\n",
              "      border-top-color: var(--fill-color);\n",
              "    }\n",
              "    30% {\n",
              "      border-color: transparent;\n",
              "      border-left-color: var(--fill-color);\n",
              "      border-top-color: var(--fill-color);\n",
              "      border-right-color: var(--fill-color);\n",
              "    }\n",
              "    40% {\n",
              "      border-color: transparent;\n",
              "      border-right-color: var(--fill-color);\n",
              "      border-top-color: var(--fill-color);\n",
              "    }\n",
              "    60% {\n",
              "      border-color: transparent;\n",
              "      border-right-color: var(--fill-color);\n",
              "    }\n",
              "    80% {\n",
              "      border-color: transparent;\n",
              "      border-right-color: var(--fill-color);\n",
              "      border-bottom-color: var(--fill-color);\n",
              "    }\n",
              "    90% {\n",
              "      border-color: transparent;\n",
              "      border-bottom-color: var(--fill-color);\n",
              "    }\n",
              "  }\n",
              "</style>\n",
              "\n",
              "  <script>\n",
              "    async function quickchart(key) {\n",
              "      const quickchartButtonEl =\n",
              "        document.querySelector('#' + key + ' button');\n",
              "      quickchartButtonEl.disabled = true;  // To prevent multiple clicks.\n",
              "      quickchartButtonEl.classList.add('colab-df-spinner');\n",
              "      try {\n",
              "        const charts = await google.colab.kernel.invokeFunction(\n",
              "            'suggestCharts', [key], {});\n",
              "      } catch (error) {\n",
              "        console.error('Error during call to suggestCharts:', error);\n",
              "      }\n",
              "      quickchartButtonEl.classList.remove('colab-df-spinner');\n",
              "      quickchartButtonEl.classList.add('colab-df-quickchart-complete');\n",
              "    }\n",
              "    (() => {\n",
              "      let quickchartButtonEl =\n",
              "        document.querySelector('#df-60734672-310a-4ac6-9b0d-45f8ec3a1e85 button');\n",
              "      quickchartButtonEl.style.display =\n",
              "        google.colab.kernel.accessAllowed ? 'block' : 'none';\n",
              "    })();\n",
              "  </script>\n",
              "</div>\n",
              "\n",
              "    </div>\n",
              "  </div>\n"
            ],
            "application/vnd.google.colaboratory.intrinsic+json": {
              "type": "dataframe",
              "summary": "{\n  \"name\": \"df\",\n  \"rows\": 98104,\n  \"fields\": [\n    {\n      \"column\": \"title\",\n      \"properties\": {\n        \"dtype\": \"string\",\n        \"num_unique_values\": 97678,\n        \"samples\": [\n          \"How to Become a DJ - Learn How to Start DJing Online Today\",\n          \"DJI Drones: How To Become The Ultimate Pilot\",\n          \"Hot Stone Facial Massage\"\n        ],\n        \"semantic_type\": \"\",\n        \"description\": \"\"\n      }\n    },\n    {\n      \"column\": \"instructor_names\",\n      \"properties\": {\n        \"dtype\": \"category\",\n        \"num_unique_values\": 36973,\n        \"samples\": [\n          \"Johannes Regier\",\n          \"Maddy Woolf\",\n          \"Jennifer Erotocritou\"\n        ],\n        \"semantic_type\": \"\",\n        \"description\": \"\"\n      }\n    },\n    {\n      \"column\": \"category\",\n      \"properties\": {\n        \"dtype\": \"category\",\n        \"num_unique_values\": 13,\n        \"samples\": [\n          \"Music\",\n          \"Photography & Video\",\n          \"Development\"\n        ],\n        \"semantic_type\": \"\",\n        \"description\": \"\"\n      }\n    },\n    {\n      \"column\": \"num_subscribers\",\n      \"properties\": {\n        \"dtype\": \"number\",\n        \"std\": 24440,\n        \"min\": 0,\n        \"max\": 1976866,\n        \"num_unique_values\": 18854,\n        \"samples\": [\n          24251,\n          30169,\n          2989\n        ],\n        \"semantic_type\": \"\",\n        \"description\": \"\"\n      }\n    },\n    {\n      \"column\": \"rating\",\n      \"properties\": {\n        \"dtype\": \"number\",\n        \"std\": 1.09170110279242,\n        \"min\": 0.0,\n        \"max\": 5.0000005,\n        \"num_unique_values\": 84837,\n        \"samples\": [\n          3.9474518,\n          4.1723113,\n          4.39165\n        ],\n        \"semantic_type\": \"\",\n        \"description\": \"\"\n      }\n    },\n    {\n      \"column\": \"num_reviews\",\n      \"properties\": {\n        \"dtype\": \"number\",\n        \"std\": 4728,\n        \"min\": 0,\n        \"max\": 521219,\n        \"num_unique_values\": 5062,\n        \"samples\": [\n          55235,\n          3366,\n          1213\n        ],\n        \"semantic_type\": \"\",\n        \"description\": \"\"\n      }\n    },\n    {\n      \"column\": \"instructional_level\",\n      \"properties\": {\n        \"dtype\": \"category\",\n        \"num_unique_values\": 4,\n        \"samples\": [\n          \"Beginner Level\",\n          \"Expert Level\",\n          \"All Levels\"\n        ],\n        \"semantic_type\": \"\",\n        \"description\": \"\"\n      }\n    }\n  ]\n}"
            }
          },
          "metadata": {},
          "execution_count": 61
        }
      ]
    },
    {
      "cell_type": "code",
      "source": [
        "df.sort_values(\"num_subscribers\",ascending=False)"
      ],
      "metadata": {
        "colab": {
          "base_uri": "https://localhost:8080/",
          "height": 1000
        },
        "id": "G6y0q_MmtkEG",
        "outputId": "cbf1e9fb-1f97-40bd-ce1b-00f450c1813f"
      },
      "execution_count": 62,
      "outputs": [
        {
          "output_type": "execute_result",
          "data": {
            "text/plain": [
              "            id                                              title  \\\n",
              "0       567828  The Complete Python Bootcamp From Zero to Hero...   \n",
              "37069   793796  Microsoft Excel - Excel from Beginner to Advanced   \n",
              "2      2776760  100 Days of Code: The Complete Python Pro Boot...   \n",
              "1      1565838         The Complete 2024 Web Development Bootcamp   \n",
              "12      543600  Automate the Boring Stuff with Python Programming   \n",
              "...        ...                                                ...   \n",
              "73159  6231189         Introduction to Gouache Landscape Painting   \n",
              "65302  5640210                          How to go viral on TikTok   \n",
              "73157  5254848            Life In A Mini Course worth Everything!   \n",
              "73156  6137903  Morning Seascape: Paint Watercolor Sky and Sea...   \n",
              "75589  6232781  Chasing Horizons: Mastering the Art of Sunset ...   \n",
              "\n",
              "                                                     url  is_paid  \\\n",
              "0      https://www.udemy.com/course/complete-python-b...     True   \n",
              "37069  https://www.udemy.com/course/microsoft-excel-2...     True   \n",
              "2         https://www.udemy.com/course/100-days-of-code/     True   \n",
              "1      https://www.udemy.com/course/the-complete-web-...     True   \n",
              "12                https://www.udemy.com/course/automate/     True   \n",
              "...                                                  ...      ...   \n",
              "73159  https://www.udemy.com/course/introduction-to-g...     True   \n",
              "65302  https://www.udemy.com/course/how-to-go-viral-o...     True   \n",
              "73157  https://www.udemy.com/course/life-in-a-mini-co...     True   \n",
              "73156  https://www.udemy.com/course/morning-seascape-...     True   \n",
              "75589  https://www.udemy.com/course/chasing-horizons-...     True   \n",
              "\n",
              "                                   instructor_names             category  \\\n",
              "0                   Jose Portilla, Pierian Training          Development   \n",
              "37069                         Kyle Pew, Office Newb  Office Productivity   \n",
              "2      Dr. Angela Yu, Developer and Lead Instructor          Development   \n",
              "1      Dr. Angela Yu, Developer and Lead Instructor          Development   \n",
              "12                                      Al Sweigart          Development   \n",
              "...                                             ...                  ...   \n",
              "73159                                  Nahid Aamina            Lifestyle   \n",
              "65302                                   Laura Dirtu            Marketing   \n",
              "73157                                 Abdullah King            Lifestyle   \n",
              "73156                          Aleksandryna Gromyko            Lifestyle   \n",
              "75589                                 Jeremia Mnayi  Photography & Video   \n",
              "\n",
              "                                                headline  num_subscribers  \\\n",
              "0      Learn Python like a Professional  Start from t...          1976866   \n",
              "37069  Excel with this A-Z Microsoft Excel Course. Mi...          1539236   \n",
              "2      Master Python by building 100 projects in 100 ...          1417942   \n",
              "1      Become a Full-Stack Web Developer with just ON...          1362586   \n",
              "12     A practical programming course for office work...          1134900   \n",
              "...                                                  ...              ...   \n",
              "73159  Learn to paint in Gouache, Get to know the bas...                0   \n",
              "65302                              viral on social media                0   \n",
              "73157  Joy, Peace, Calmness, Perspective, Understandi...                0   \n",
              "73156  Painting Watercolor Gradient Sunrise Sky using...                0   \n",
              "75589    A Deep Dive into Timing, Light, and Composition                0   \n",
              "\n",
              "         rating  num_reviews instructional_level  \\\n",
              "0      4.576494       521219          All Levels   \n",
              "37069  4.659021       460721          All Levels   \n",
              "2      4.698768       331803          All Levels   \n",
              "1      4.679065       409793          All Levels   \n",
              "12     4.626117       114542          All Levels   \n",
              "...         ...          ...                 ...   \n",
              "73159  0.000000            0  Intermediate Level   \n",
              "65302  0.000000            0          All Levels   \n",
              "73157  0.000000            0        Expert Level   \n",
              "73156  0.000000            0          All Levels   \n",
              "75589  0.000000            0      Beginner Level   \n",
              "\n",
              "                                              objectives  \\\n",
              "0      You will learn how to leverage the power of Py...   \n",
              "37069  Master Microsoft Excel from Beginner to Advanc...   \n",
              "2      You will master the Python programming languag...   \n",
              "1      Build 16 web development projects for your por...   \n",
              "12     Automate tasks on their computer by writing si...   \n",
              "...                                                  ...   \n",
              "73159  What Is Gouache, and How Does It Differ from W...   \n",
              "65302  Understand the TikTok algorithm Discover trend...   \n",
              "73157  Watching Course BEFORE the Payments will cause...   \n",
              "73156  Learn how to paint smooth watercolor sky with ...   \n",
              "75589  Define the role of contrast in Focal length cl...   \n",
              "\n",
              "                                              curriculum  \n",
              "0      Course Overview, Auto-Welcome Message, Course ...  \n",
              "37069  Microsoft Excel 101 Course Introduction, Ask Q...  \n",
              "2      Day 1 - Beginner - Working with Variables in P...  \n",
              "1      Front-End Web Development, What You'll Get in ...  \n",
              "12     Python Basics, Get Python Installed, Just a ch...  \n",
              "...                                                  ...  \n",
              "73159  Introduction, Introduction to the Course!, All...  \n",
              "65302  Introduction, Introduction, Strategie, 10%  ru...  \n",
              "73157  Welcome to the Course! ONCE WATCHED WITHOUTBUY...  \n",
              "73156  Introduction, Introduction, Art Materials and ...  \n",
              "75589         Practice Tests, Focal Point, Magnification  \n",
              "\n",
              "[98104 rows x 13 columns]"
            ],
            "text/html": [
              "\n",
              "  <div id=\"df-674f357a-b612-4a6a-a99d-d8684a63f3ed\" class=\"colab-df-container\">\n",
              "    <div>\n",
              "<style scoped>\n",
              "    .dataframe tbody tr th:only-of-type {\n",
              "        vertical-align: middle;\n",
              "    }\n",
              "\n",
              "    .dataframe tbody tr th {\n",
              "        vertical-align: top;\n",
              "    }\n",
              "\n",
              "    .dataframe thead th {\n",
              "        text-align: right;\n",
              "    }\n",
              "</style>\n",
              "<table border=\"1\" class=\"dataframe\">\n",
              "  <thead>\n",
              "    <tr style=\"text-align: right;\">\n",
              "      <th></th>\n",
              "      <th>id</th>\n",
              "      <th>title</th>\n",
              "      <th>url</th>\n",
              "      <th>is_paid</th>\n",
              "      <th>instructor_names</th>\n",
              "      <th>category</th>\n",
              "      <th>headline</th>\n",
              "      <th>num_subscribers</th>\n",
              "      <th>rating</th>\n",
              "      <th>num_reviews</th>\n",
              "      <th>instructional_level</th>\n",
              "      <th>objectives</th>\n",
              "      <th>curriculum</th>\n",
              "    </tr>\n",
              "  </thead>\n",
              "  <tbody>\n",
              "    <tr>\n",
              "      <th>0</th>\n",
              "      <td>567828</td>\n",
              "      <td>The Complete Python Bootcamp From Zero to Hero...</td>\n",
              "      <td>https://www.udemy.com/course/complete-python-b...</td>\n",
              "      <td>True</td>\n",
              "      <td>Jose Portilla, Pierian Training</td>\n",
              "      <td>Development</td>\n",
              "      <td>Learn Python like a Professional  Start from t...</td>\n",
              "      <td>1976866</td>\n",
              "      <td>4.576494</td>\n",
              "      <td>521219</td>\n",
              "      <td>All Levels</td>\n",
              "      <td>You will learn how to leverage the power of Py...</td>\n",
              "      <td>Course Overview, Auto-Welcome Message, Course ...</td>\n",
              "    </tr>\n",
              "    <tr>\n",
              "      <th>37069</th>\n",
              "      <td>793796</td>\n",
              "      <td>Microsoft Excel - Excel from Beginner to Advanced</td>\n",
              "      <td>https://www.udemy.com/course/microsoft-excel-2...</td>\n",
              "      <td>True</td>\n",
              "      <td>Kyle Pew, Office Newb</td>\n",
              "      <td>Office Productivity</td>\n",
              "      <td>Excel with this A-Z Microsoft Excel Course. Mi...</td>\n",
              "      <td>1539236</td>\n",
              "      <td>4.659021</td>\n",
              "      <td>460721</td>\n",
              "      <td>All Levels</td>\n",
              "      <td>Master Microsoft Excel from Beginner to Advanc...</td>\n",
              "      <td>Microsoft Excel 101 Course Introduction, Ask Q...</td>\n",
              "    </tr>\n",
              "    <tr>\n",
              "      <th>2</th>\n",
              "      <td>2776760</td>\n",
              "      <td>100 Days of Code: The Complete Python Pro Boot...</td>\n",
              "      <td>https://www.udemy.com/course/100-days-of-code/</td>\n",
              "      <td>True</td>\n",
              "      <td>Dr. Angela Yu, Developer and Lead Instructor</td>\n",
              "      <td>Development</td>\n",
              "      <td>Master Python by building 100 projects in 100 ...</td>\n",
              "      <td>1417942</td>\n",
              "      <td>4.698768</td>\n",
              "      <td>331803</td>\n",
              "      <td>All Levels</td>\n",
              "      <td>You will master the Python programming languag...</td>\n",
              "      <td>Day 1 - Beginner - Working with Variables in P...</td>\n",
              "    </tr>\n",
              "    <tr>\n",
              "      <th>1</th>\n",
              "      <td>1565838</td>\n",
              "      <td>The Complete 2024 Web Development Bootcamp</td>\n",
              "      <td>https://www.udemy.com/course/the-complete-web-...</td>\n",
              "      <td>True</td>\n",
              "      <td>Dr. Angela Yu, Developer and Lead Instructor</td>\n",
              "      <td>Development</td>\n",
              "      <td>Become a Full-Stack Web Developer with just ON...</td>\n",
              "      <td>1362586</td>\n",
              "      <td>4.679065</td>\n",
              "      <td>409793</td>\n",
              "      <td>All Levels</td>\n",
              "      <td>Build 16 web development projects for your por...</td>\n",
              "      <td>Front-End Web Development, What You'll Get in ...</td>\n",
              "    </tr>\n",
              "    <tr>\n",
              "      <th>12</th>\n",
              "      <td>543600</td>\n",
              "      <td>Automate the Boring Stuff with Python Programming</td>\n",
              "      <td>https://www.udemy.com/course/automate/</td>\n",
              "      <td>True</td>\n",
              "      <td>Al Sweigart</td>\n",
              "      <td>Development</td>\n",
              "      <td>A practical programming course for office work...</td>\n",
              "      <td>1134900</td>\n",
              "      <td>4.626117</td>\n",
              "      <td>114542</td>\n",
              "      <td>All Levels</td>\n",
              "      <td>Automate tasks on their computer by writing si...</td>\n",
              "      <td>Python Basics, Get Python Installed, Just a ch...</td>\n",
              "    </tr>\n",
              "    <tr>\n",
              "      <th>...</th>\n",
              "      <td>...</td>\n",
              "      <td>...</td>\n",
              "      <td>...</td>\n",
              "      <td>...</td>\n",
              "      <td>...</td>\n",
              "      <td>...</td>\n",
              "      <td>...</td>\n",
              "      <td>...</td>\n",
              "      <td>...</td>\n",
              "      <td>...</td>\n",
              "      <td>...</td>\n",
              "      <td>...</td>\n",
              "      <td>...</td>\n",
              "    </tr>\n",
              "    <tr>\n",
              "      <th>73159</th>\n",
              "      <td>6231189</td>\n",
              "      <td>Introduction to Gouache Landscape Painting</td>\n",
              "      <td>https://www.udemy.com/course/introduction-to-g...</td>\n",
              "      <td>True</td>\n",
              "      <td>Nahid Aamina</td>\n",
              "      <td>Lifestyle</td>\n",
              "      <td>Learn to paint in Gouache, Get to know the bas...</td>\n",
              "      <td>0</td>\n",
              "      <td>0.000000</td>\n",
              "      <td>0</td>\n",
              "      <td>Intermediate Level</td>\n",
              "      <td>What Is Gouache, and How Does It Differ from W...</td>\n",
              "      <td>Introduction, Introduction to the Course!, All...</td>\n",
              "    </tr>\n",
              "    <tr>\n",
              "      <th>65302</th>\n",
              "      <td>5640210</td>\n",
              "      <td>How to go viral on TikTok</td>\n",
              "      <td>https://www.udemy.com/course/how-to-go-viral-o...</td>\n",
              "      <td>True</td>\n",
              "      <td>Laura Dirtu</td>\n",
              "      <td>Marketing</td>\n",
              "      <td>viral on social media</td>\n",
              "      <td>0</td>\n",
              "      <td>0.000000</td>\n",
              "      <td>0</td>\n",
              "      <td>All Levels</td>\n",
              "      <td>Understand the TikTok algorithm Discover trend...</td>\n",
              "      <td>Introduction, Introduction, Strategie, 10%  ru...</td>\n",
              "    </tr>\n",
              "    <tr>\n",
              "      <th>73157</th>\n",
              "      <td>5254848</td>\n",
              "      <td>Life In A Mini Course worth Everything!</td>\n",
              "      <td>https://www.udemy.com/course/life-in-a-mini-co...</td>\n",
              "      <td>True</td>\n",
              "      <td>Abdullah King</td>\n",
              "      <td>Lifestyle</td>\n",
              "      <td>Joy, Peace, Calmness, Perspective, Understandi...</td>\n",
              "      <td>0</td>\n",
              "      <td>0.000000</td>\n",
              "      <td>0</td>\n",
              "      <td>Expert Level</td>\n",
              "      <td>Watching Course BEFORE the Payments will cause...</td>\n",
              "      <td>Welcome to the Course! ONCE WATCHED WITHOUTBUY...</td>\n",
              "    </tr>\n",
              "    <tr>\n",
              "      <th>73156</th>\n",
              "      <td>6137903</td>\n",
              "      <td>Morning Seascape: Paint Watercolor Sky and Sea...</td>\n",
              "      <td>https://www.udemy.com/course/morning-seascape-...</td>\n",
              "      <td>True</td>\n",
              "      <td>Aleksandryna Gromyko</td>\n",
              "      <td>Lifestyle</td>\n",
              "      <td>Painting Watercolor Gradient Sunrise Sky using...</td>\n",
              "      <td>0</td>\n",
              "      <td>0.000000</td>\n",
              "      <td>0</td>\n",
              "      <td>All Levels</td>\n",
              "      <td>Learn how to paint smooth watercolor sky with ...</td>\n",
              "      <td>Introduction, Introduction, Art Materials and ...</td>\n",
              "    </tr>\n",
              "    <tr>\n",
              "      <th>75589</th>\n",
              "      <td>6232781</td>\n",
              "      <td>Chasing Horizons: Mastering the Art of Sunset ...</td>\n",
              "      <td>https://www.udemy.com/course/chasing-horizons-...</td>\n",
              "      <td>True</td>\n",
              "      <td>Jeremia Mnayi</td>\n",
              "      <td>Photography &amp; Video</td>\n",
              "      <td>A Deep Dive into Timing, Light, and Composition</td>\n",
              "      <td>0</td>\n",
              "      <td>0.000000</td>\n",
              "      <td>0</td>\n",
              "      <td>Beginner Level</td>\n",
              "      <td>Define the role of contrast in Focal length cl...</td>\n",
              "      <td>Practice Tests, Focal Point, Magnification</td>\n",
              "    </tr>\n",
              "  </tbody>\n",
              "</table>\n",
              "<p>98104 rows × 13 columns</p>\n",
              "</div>\n",
              "    <div class=\"colab-df-buttons\">\n",
              "\n",
              "  <div class=\"colab-df-container\">\n",
              "    <button class=\"colab-df-convert\" onclick=\"convertToInteractive('df-674f357a-b612-4a6a-a99d-d8684a63f3ed')\"\n",
              "            title=\"Convert this dataframe to an interactive table.\"\n",
              "            style=\"display:none;\">\n",
              "\n",
              "  <svg xmlns=\"http://www.w3.org/2000/svg\" height=\"24px\" viewBox=\"0 -960 960 960\">\n",
              "    <path d=\"M120-120v-720h720v720H120Zm60-500h600v-160H180v160Zm220 220h160v-160H400v160Zm0 220h160v-160H400v160ZM180-400h160v-160H180v160Zm440 0h160v-160H620v160ZM180-180h160v-160H180v160Zm440 0h160v-160H620v160Z\"/>\n",
              "  </svg>\n",
              "    </button>\n",
              "\n",
              "  <style>\n",
              "    .colab-df-container {\n",
              "      display:flex;\n",
              "      gap: 12px;\n",
              "    }\n",
              "\n",
              "    .colab-df-convert {\n",
              "      background-color: #E8F0FE;\n",
              "      border: none;\n",
              "      border-radius: 50%;\n",
              "      cursor: pointer;\n",
              "      display: none;\n",
              "      fill: #1967D2;\n",
              "      height: 32px;\n",
              "      padding: 0 0 0 0;\n",
              "      width: 32px;\n",
              "    }\n",
              "\n",
              "    .colab-df-convert:hover {\n",
              "      background-color: #E2EBFA;\n",
              "      box-shadow: 0px 1px 2px rgba(60, 64, 67, 0.3), 0px 1px 3px 1px rgba(60, 64, 67, 0.15);\n",
              "      fill: #174EA6;\n",
              "    }\n",
              "\n",
              "    .colab-df-buttons div {\n",
              "      margin-bottom: 4px;\n",
              "    }\n",
              "\n",
              "    [theme=dark] .colab-df-convert {\n",
              "      background-color: #3B4455;\n",
              "      fill: #D2E3FC;\n",
              "    }\n",
              "\n",
              "    [theme=dark] .colab-df-convert:hover {\n",
              "      background-color: #434B5C;\n",
              "      box-shadow: 0px 1px 3px 1px rgba(0, 0, 0, 0.15);\n",
              "      filter: drop-shadow(0px 1px 2px rgba(0, 0, 0, 0.3));\n",
              "      fill: #FFFFFF;\n",
              "    }\n",
              "  </style>\n",
              "\n",
              "    <script>\n",
              "      const buttonEl =\n",
              "        document.querySelector('#df-674f357a-b612-4a6a-a99d-d8684a63f3ed button.colab-df-convert');\n",
              "      buttonEl.style.display =\n",
              "        google.colab.kernel.accessAllowed ? 'block' : 'none';\n",
              "\n",
              "      async function convertToInteractive(key) {\n",
              "        const element = document.querySelector('#df-674f357a-b612-4a6a-a99d-d8684a63f3ed');\n",
              "        const dataTable =\n",
              "          await google.colab.kernel.invokeFunction('convertToInteractive',\n",
              "                                                    [key], {});\n",
              "        if (!dataTable) return;\n",
              "\n",
              "        const docLinkHtml = 'Like what you see? Visit the ' +\n",
              "          '<a target=\"_blank\" href=https://colab.research.google.com/notebooks/data_table.ipynb>data table notebook</a>'\n",
              "          + ' to learn more about interactive tables.';\n",
              "        element.innerHTML = '';\n",
              "        dataTable['output_type'] = 'display_data';\n",
              "        await google.colab.output.renderOutput(dataTable, element);\n",
              "        const docLink = document.createElement('div');\n",
              "        docLink.innerHTML = docLinkHtml;\n",
              "        element.appendChild(docLink);\n",
              "      }\n",
              "    </script>\n",
              "  </div>\n",
              "\n",
              "\n",
              "<div id=\"df-62ecf35c-9325-454c-8afd-96693cd9e483\">\n",
              "  <button class=\"colab-df-quickchart\" onclick=\"quickchart('df-62ecf35c-9325-454c-8afd-96693cd9e483')\"\n",
              "            title=\"Suggest charts\"\n",
              "            style=\"display:none;\">\n",
              "\n",
              "<svg xmlns=\"http://www.w3.org/2000/svg\" height=\"24px\"viewBox=\"0 0 24 24\"\n",
              "     width=\"24px\">\n",
              "    <g>\n",
              "        <path d=\"M19 3H5c-1.1 0-2 .9-2 2v14c0 1.1.9 2 2 2h14c1.1 0 2-.9 2-2V5c0-1.1-.9-2-2-2zM9 17H7v-7h2v7zm4 0h-2V7h2v10zm4 0h-2v-4h2v4z\"/>\n",
              "    </g>\n",
              "</svg>\n",
              "  </button>\n",
              "\n",
              "<style>\n",
              "  .colab-df-quickchart {\n",
              "      --bg-color: #E8F0FE;\n",
              "      --fill-color: #1967D2;\n",
              "      --hover-bg-color: #E2EBFA;\n",
              "      --hover-fill-color: #174EA6;\n",
              "      --disabled-fill-color: #AAA;\n",
              "      --disabled-bg-color: #DDD;\n",
              "  }\n",
              "\n",
              "  [theme=dark] .colab-df-quickchart {\n",
              "      --bg-color: #3B4455;\n",
              "      --fill-color: #D2E3FC;\n",
              "      --hover-bg-color: #434B5C;\n",
              "      --hover-fill-color: #FFFFFF;\n",
              "      --disabled-bg-color: #3B4455;\n",
              "      --disabled-fill-color: #666;\n",
              "  }\n",
              "\n",
              "  .colab-df-quickchart {\n",
              "    background-color: var(--bg-color);\n",
              "    border: none;\n",
              "    border-radius: 50%;\n",
              "    cursor: pointer;\n",
              "    display: none;\n",
              "    fill: var(--fill-color);\n",
              "    height: 32px;\n",
              "    padding: 0;\n",
              "    width: 32px;\n",
              "  }\n",
              "\n",
              "  .colab-df-quickchart:hover {\n",
              "    background-color: var(--hover-bg-color);\n",
              "    box-shadow: 0 1px 2px rgba(60, 64, 67, 0.3), 0 1px 3px 1px rgba(60, 64, 67, 0.15);\n",
              "    fill: var(--button-hover-fill-color);\n",
              "  }\n",
              "\n",
              "  .colab-df-quickchart-complete:disabled,\n",
              "  .colab-df-quickchart-complete:disabled:hover {\n",
              "    background-color: var(--disabled-bg-color);\n",
              "    fill: var(--disabled-fill-color);\n",
              "    box-shadow: none;\n",
              "  }\n",
              "\n",
              "  .colab-df-spinner {\n",
              "    border: 2px solid var(--fill-color);\n",
              "    border-color: transparent;\n",
              "    border-bottom-color: var(--fill-color);\n",
              "    animation:\n",
              "      spin 1s steps(1) infinite;\n",
              "  }\n",
              "\n",
              "  @keyframes spin {\n",
              "    0% {\n",
              "      border-color: transparent;\n",
              "      border-bottom-color: var(--fill-color);\n",
              "      border-left-color: var(--fill-color);\n",
              "    }\n",
              "    20% {\n",
              "      border-color: transparent;\n",
              "      border-left-color: var(--fill-color);\n",
              "      border-top-color: var(--fill-color);\n",
              "    }\n",
              "    30% {\n",
              "      border-color: transparent;\n",
              "      border-left-color: var(--fill-color);\n",
              "      border-top-color: var(--fill-color);\n",
              "      border-right-color: var(--fill-color);\n",
              "    }\n",
              "    40% {\n",
              "      border-color: transparent;\n",
              "      border-right-color: var(--fill-color);\n",
              "      border-top-color: var(--fill-color);\n",
              "    }\n",
              "    60% {\n",
              "      border-color: transparent;\n",
              "      border-right-color: var(--fill-color);\n",
              "    }\n",
              "    80% {\n",
              "      border-color: transparent;\n",
              "      border-right-color: var(--fill-color);\n",
              "      border-bottom-color: var(--fill-color);\n",
              "    }\n",
              "    90% {\n",
              "      border-color: transparent;\n",
              "      border-bottom-color: var(--fill-color);\n",
              "    }\n",
              "  }\n",
              "</style>\n",
              "\n",
              "  <script>\n",
              "    async function quickchart(key) {\n",
              "      const quickchartButtonEl =\n",
              "        document.querySelector('#' + key + ' button');\n",
              "      quickchartButtonEl.disabled = true;  // To prevent multiple clicks.\n",
              "      quickchartButtonEl.classList.add('colab-df-spinner');\n",
              "      try {\n",
              "        const charts = await google.colab.kernel.invokeFunction(\n",
              "            'suggestCharts', [key], {});\n",
              "      } catch (error) {\n",
              "        console.error('Error during call to suggestCharts:', error);\n",
              "      }\n",
              "      quickchartButtonEl.classList.remove('colab-df-spinner');\n",
              "      quickchartButtonEl.classList.add('colab-df-quickchart-complete');\n",
              "    }\n",
              "    (() => {\n",
              "      let quickchartButtonEl =\n",
              "        document.querySelector('#df-62ecf35c-9325-454c-8afd-96693cd9e483 button');\n",
              "      quickchartButtonEl.style.display =\n",
              "        google.colab.kernel.accessAllowed ? 'block' : 'none';\n",
              "    })();\n",
              "  </script>\n",
              "</div>\n",
              "\n",
              "    </div>\n",
              "  </div>\n"
            ],
            "application/vnd.google.colaboratory.intrinsic+json": {
              "type": "dataframe",
              "summary": "{\n  \"name\": \"df\",\n  \"rows\": 98104,\n  \"fields\": [\n    {\n      \"column\": \"id\",\n      \"properties\": {\n        \"dtype\": \"number\",\n        \"std\": 1817397,\n        \"min\": 2762,\n        \"max\": 6267057,\n        \"num_unique_values\": 98104,\n        \"samples\": [\n          1133456,\n          3191028,\n          4185794\n        ],\n        \"semantic_type\": \"\",\n        \"description\": \"\"\n      }\n    },\n    {\n      \"column\": \"title\",\n      \"properties\": {\n        \"dtype\": \"string\",\n        \"num_unique_values\": 97678,\n        \"samples\": [\n          \"Learn Moroccan Arabic Slang\",\n          \"Learn Subcontracting Process in SAP MM\",\n          \"Entrepreneurship: 5 keys to building a successful business\"\n        ],\n        \"semantic_type\": \"\",\n        \"description\": \"\"\n      }\n    },\n    {\n      \"column\": \"url\",\n      \"properties\": {\n        \"dtype\": \"string\",\n        \"num_unique_values\": 98104,\n        \"samples\": [\n          \"https://www.udemy.com/course/learn-about-interface-between-im-and-wm-in-sap-wm/\",\n          \"https://www.udemy.com/course/switched-reluctance-motor-drive/\",\n          \"https://www.udemy.com/course/vsd-mixed-signal-risc-v-based-soc-on-fpga/\"\n        ],\n        \"semantic_type\": \"\",\n        \"description\": \"\"\n      }\n    },\n    {\n      \"column\": \"is_paid\",\n      \"properties\": {\n        \"dtype\": \"boolean\",\n        \"num_unique_values\": 2,\n        \"samples\": [\n          false,\n          true\n        ],\n        \"semantic_type\": \"\",\n        \"description\": \"\"\n      }\n    },\n    {\n      \"column\": \"instructor_names\",\n      \"properties\": {\n        \"dtype\": \"category\",\n        \"num_unique_values\": 36973,\n        \"samples\": [\n          \"Isuru Samaraweera\",\n          \"Bartosz Kaminski\"\n        ],\n        \"semantic_type\": \"\",\n        \"description\": \"\"\n      }\n    },\n    {\n      \"column\": \"category\",\n      \"properties\": {\n        \"dtype\": \"category\",\n        \"num_unique_values\": 13,\n        \"samples\": [\n          \"Lifestyle\",\n          \"Personal Development\"\n        ],\n        \"semantic_type\": \"\",\n        \"description\": \"\"\n      }\n    },\n    {\n      \"column\": \"headline\",\n      \"properties\": {\n        \"dtype\": \"string\",\n        \"num_unique_values\": 95854,\n        \"samples\": [\n          \"Master the WooCommerce WordPress Plugin to build an eCommerce website online to accept PayPal, credit cards, and more.\",\n          \"Daily fitness technqiues and organised way to solve women's common problems.\"\n        ],\n        \"semantic_type\": \"\",\n        \"description\": \"\"\n      }\n    },\n    {\n      \"column\": \"num_subscribers\",\n      \"properties\": {\n        \"dtype\": \"number\",\n        \"std\": 24440,\n        \"min\": 0,\n        \"max\": 1976866,\n        \"num_unique_values\": 18854,\n        \"samples\": [\n          10474,\n          5700\n        ],\n        \"semantic_type\": \"\",\n        \"description\": \"\"\n      }\n    },\n    {\n      \"column\": \"rating\",\n      \"properties\": {\n        \"dtype\": \"number\",\n        \"std\": 1.091701102792414,\n        \"min\": 0.0,\n        \"max\": 5.0000005,\n        \"num_unique_values\": 84837,\n        \"samples\": [\n          3.8930905,\n          4.75555\n        ],\n        \"semantic_type\": \"\",\n        \"description\": \"\"\n      }\n    },\n    {\n      \"column\": \"num_reviews\",\n      \"properties\": {\n        \"dtype\": \"number\",\n        \"std\": 4728,\n        \"min\": 0,\n        \"max\": 521219,\n        \"num_unique_values\": 5062,\n        \"samples\": [\n          26999,\n          11702\n        ],\n        \"semantic_type\": \"\",\n        \"description\": \"\"\n      }\n    },\n    {\n      \"column\": \"instructional_level\",\n      \"properties\": {\n        \"dtype\": \"category\",\n        \"num_unique_values\": 4,\n        \"samples\": [\n          \"Beginner Level\",\n          \"Expert Level\"\n        ],\n        \"semantic_type\": \"\",\n        \"description\": \"\"\n      }\n    },\n    {\n      \"column\": \"objectives\",\n      \"properties\": {\n        \"dtype\": \"string\",\n        \"num_unique_values\": 96453,\n        \"samples\": [\n          \"Create a powerful resume that stands out with ChatGPT's keyword analysis and infusion to get your dream job. Write a tailored and effective cover letter with ChatGPT's tips to make you stand out and get noticed by hiring managers. Prepare for interviews with ChatGPT's role-playing scenarios and resume-based questions to ace any job interview.\",\n          \"Develop ToDo App with Kotlin Navigation Component Safe args\"\n        ],\n        \"semantic_type\": \"\",\n        \"description\": \"\"\n      }\n    },\n    {\n      \"column\": \"curriculum\",\n      \"properties\": {\n        \"dtype\": \"string\",\n        \"num_unique_values\": 97698,\n        \"samples\": [\n          \"INTRODUCTION, INTRODUCTION., BASIC CLEANING PRODUCTS, DISH SOAP/LIQUID SOAP PRODUCTION Part A, Part B SOAP/LIQUID SOAP PRODUCTION, FLOOR CLEANER PRODUCTION, GLASS CLEANER PRODUCTION, HAIR CARE PRODUCTS, HAIR SHAMPOO PRODUCTION Part A, Part B HAIR SHAMPOO PRODUCTION, HAIR CONDITIONER, BATHROOM  PRODUCTS, SHOWER GEL/BATH GEL/BODY WASH PRODUCTION, TILE/BATH TUB/SINK CLEANER, TOILET CLEANER/TOILET WASH PRODUCTION, LAUNDRY PRODUCTS SECTION, MULTIPURPOSE BLEACH PRODUCTION, FABRIC CONDITIONER PRODUCTION, Fabric Condtioner\",\n          \"Introduction, Introduction, Our Reference Book, Introduction to MATLAB SIMULINK, How to Open MATLAB SIMULINK, Simulink Libraries, SimPowerSystems, Overview of SIMULINK, POWERGUI, OHM's Law, Review on Basics, Design (1) - Part (1), Design (1) - Part (2), Desgin (2), KIRCHHOFF's Laws, Review on Basics, Design (1), Design (2), Design (3), Design (4), Design (5) - Part (1), Design (5) - Part (2), Series Resistors and Voltage Division, Review on Basics, Parallel Resistors and Current Division, Review on Basics, Designs of Sections (5) & (6), Design (1), Design (2) - Part (1), Design (2) - Part (2), Additional Designs, Design (1), Design (2), Conclusion, Conclusion\"\n        ],\n        \"semantic_type\": \"\",\n        \"description\": \"\"\n      }\n    }\n  ]\n}"
            }
          },
          "metadata": {},
          "execution_count": 62
        }
      ]
    },
    {
      "cell_type": "code",
      "source": [
        "df_udemy=df.head(98104)"
      ],
      "metadata": {
        "id": "JL84y9kktsNo"
      },
      "execution_count": 63,
      "outputs": []
    },
    {
      "cell_type": "code",
      "source": [
        "df_udemy.shape"
      ],
      "metadata": {
        "colab": {
          "base_uri": "https://localhost:8080/"
        },
        "id": "H4ipDCy1tvrK",
        "outputId": "c035d651-4e38-4592-ccf0-a7ffa998ab78"
      },
      "execution_count": 64,
      "outputs": [
        {
          "output_type": "execute_result",
          "data": {
            "text/plain": [
              "(98104, 13)"
            ]
          },
          "metadata": {},
          "execution_count": 64
        }
      ]
    },
    {
      "cell_type": "code",
      "source": [
        "df_udemy.info()"
      ],
      "metadata": {
        "colab": {
          "base_uri": "https://localhost:8080/"
        },
        "id": "6d7Q6qAhtyMZ",
        "outputId": "fc1bc36f-397e-4fed-c5cc-16a4ccdd17e8"
      },
      "execution_count": 65,
      "outputs": [
        {
          "output_type": "stream",
          "name": "stdout",
          "text": [
            "<class 'pandas.core.frame.DataFrame'>\n",
            "RangeIndex: 98104 entries, 0 to 98103\n",
            "Data columns (total 13 columns):\n",
            " #   Column               Non-Null Count  Dtype  \n",
            "---  ------               --------------  -----  \n",
            " 0   id                   98104 non-null  int64  \n",
            " 1   title                98104 non-null  object \n",
            " 2   url                  98104 non-null  object \n",
            " 3   is_paid              98104 non-null  bool   \n",
            " 4   instructor_names     98102 non-null  object \n",
            " 5   category             98104 non-null  object \n",
            " 6   headline             98104 non-null  object \n",
            " 7   num_subscribers      98104 non-null  int64  \n",
            " 8   rating               98104 non-null  float64\n",
            " 9   num_reviews          98104 non-null  int64  \n",
            " 10  instructional_level  98104 non-null  object \n",
            " 11  objectives           98104 non-null  object \n",
            " 12  curriculum           98104 non-null  object \n",
            "dtypes: bool(1), float64(1), int64(3), object(8)\n",
            "memory usage: 9.1+ MB\n"
          ]
        }
      ]
    },
    {
      "cell_type": "code",
      "source": [
        "df_udemy.head()"
      ],
      "metadata": {
        "colab": {
          "base_uri": "https://localhost:8080/",
          "height": 625
        },
        "id": "Uh95vxyzyc7I",
        "outputId": "46cbfa42-181f-41a1-b394-c27fb4de186c"
      },
      "execution_count": 66,
      "outputs": [
        {
          "output_type": "execute_result",
          "data": {
            "text/plain": [
              "        id                                              title  \\\n",
              "0   567828  The Complete Python Bootcamp From Zero to Hero...   \n",
              "1  1565838         The Complete 2024 Web Development Bootcamp   \n",
              "2  2776760  100 Days of Code: The Complete Python Pro Boot...   \n",
              "3   625204                    The Web Developer Bootcamp 2024   \n",
              "4  1362070  React - The Complete Guide 2024 (incl. Next.js...   \n",
              "\n",
              "                                                 url  is_paid  \\\n",
              "0  https://www.udemy.com/course/complete-python-b...     True   \n",
              "1  https://www.udemy.com/course/the-complete-web-...     True   \n",
              "2     https://www.udemy.com/course/100-days-of-code/     True   \n",
              "3  https://www.udemy.com/course/the-web-developer...     True   \n",
              "4  https://www.udemy.com/course/react-the-complet...     True   \n",
              "\n",
              "                                    instructor_names     category  \\\n",
              "0                    Jose Portilla, Pierian Training  Development   \n",
              "1       Dr. Angela Yu, Developer and Lead Instructor  Development   \n",
              "2       Dr. Angela Yu, Developer and Lead Instructor  Development   \n",
              "3                                        Colt Steele  Development   \n",
              "4  Academind by Maximilian Schwarzmüller, Maximil...  Development   \n",
              "\n",
              "                                            headline  num_subscribers  \\\n",
              "0  Learn Python like a Professional  Start from t...          1976866   \n",
              "1  Become a Full-Stack Web Developer with just ON...          1362586   \n",
              "2  Master Python by building 100 projects in 100 ...          1417942   \n",
              "3  10 Hours of React just added. Become a Develop...           923815   \n",
              "4  Dive in and learn React.js from scratch! Learn...           909848   \n",
              "\n",
              "     rating  num_reviews instructional_level  \\\n",
              "0  4.576494       521219          All Levels   \n",
              "1  4.679065       409793          All Levels   \n",
              "2  4.698768       331803          All Levels   \n",
              "3  4.673450       276723          All Levels   \n",
              "4  4.638643       220051          All Levels   \n",
              "\n",
              "                                          objectives  \\\n",
              "0  You will learn how to leverage the power of Py...   \n",
              "1  Build 16 web development projects for your por...   \n",
              "2  You will master the Python programming languag...   \n",
              "3  The ins and outs of HTML5, CSS3, and Modern Ja...   \n",
              "4  Learn React from the ground up and finish the ...   \n",
              "\n",
              "                                          curriculum  \n",
              "0  Course Overview, Auto-Welcome Message, Course ...  \n",
              "1  Front-End Web Development, What You'll Get in ...  \n",
              "2  Day 1 - Beginner - Working with Variables in P...  \n",
              "3  Course Orientation, Welcome To The Course!, Jo...  \n",
              "4  Getting Started, Welcome To The Course!, What ...  "
            ],
            "text/html": [
              "\n",
              "  <div id=\"df-7e6d502f-73b5-4f72-9702-b63f08c012d3\" class=\"colab-df-container\">\n",
              "    <div>\n",
              "<style scoped>\n",
              "    .dataframe tbody tr th:only-of-type {\n",
              "        vertical-align: middle;\n",
              "    }\n",
              "\n",
              "    .dataframe tbody tr th {\n",
              "        vertical-align: top;\n",
              "    }\n",
              "\n",
              "    .dataframe thead th {\n",
              "        text-align: right;\n",
              "    }\n",
              "</style>\n",
              "<table border=\"1\" class=\"dataframe\">\n",
              "  <thead>\n",
              "    <tr style=\"text-align: right;\">\n",
              "      <th></th>\n",
              "      <th>id</th>\n",
              "      <th>title</th>\n",
              "      <th>url</th>\n",
              "      <th>is_paid</th>\n",
              "      <th>instructor_names</th>\n",
              "      <th>category</th>\n",
              "      <th>headline</th>\n",
              "      <th>num_subscribers</th>\n",
              "      <th>rating</th>\n",
              "      <th>num_reviews</th>\n",
              "      <th>instructional_level</th>\n",
              "      <th>objectives</th>\n",
              "      <th>curriculum</th>\n",
              "    </tr>\n",
              "  </thead>\n",
              "  <tbody>\n",
              "    <tr>\n",
              "      <th>0</th>\n",
              "      <td>567828</td>\n",
              "      <td>The Complete Python Bootcamp From Zero to Hero...</td>\n",
              "      <td>https://www.udemy.com/course/complete-python-b...</td>\n",
              "      <td>True</td>\n",
              "      <td>Jose Portilla, Pierian Training</td>\n",
              "      <td>Development</td>\n",
              "      <td>Learn Python like a Professional  Start from t...</td>\n",
              "      <td>1976866</td>\n",
              "      <td>4.576494</td>\n",
              "      <td>521219</td>\n",
              "      <td>All Levels</td>\n",
              "      <td>You will learn how to leverage the power of Py...</td>\n",
              "      <td>Course Overview, Auto-Welcome Message, Course ...</td>\n",
              "    </tr>\n",
              "    <tr>\n",
              "      <th>1</th>\n",
              "      <td>1565838</td>\n",
              "      <td>The Complete 2024 Web Development Bootcamp</td>\n",
              "      <td>https://www.udemy.com/course/the-complete-web-...</td>\n",
              "      <td>True</td>\n",
              "      <td>Dr. Angela Yu, Developer and Lead Instructor</td>\n",
              "      <td>Development</td>\n",
              "      <td>Become a Full-Stack Web Developer with just ON...</td>\n",
              "      <td>1362586</td>\n",
              "      <td>4.679065</td>\n",
              "      <td>409793</td>\n",
              "      <td>All Levels</td>\n",
              "      <td>Build 16 web development projects for your por...</td>\n",
              "      <td>Front-End Web Development, What You'll Get in ...</td>\n",
              "    </tr>\n",
              "    <tr>\n",
              "      <th>2</th>\n",
              "      <td>2776760</td>\n",
              "      <td>100 Days of Code: The Complete Python Pro Boot...</td>\n",
              "      <td>https://www.udemy.com/course/100-days-of-code/</td>\n",
              "      <td>True</td>\n",
              "      <td>Dr. Angela Yu, Developer and Lead Instructor</td>\n",
              "      <td>Development</td>\n",
              "      <td>Master Python by building 100 projects in 100 ...</td>\n",
              "      <td>1417942</td>\n",
              "      <td>4.698768</td>\n",
              "      <td>331803</td>\n",
              "      <td>All Levels</td>\n",
              "      <td>You will master the Python programming languag...</td>\n",
              "      <td>Day 1 - Beginner - Working with Variables in P...</td>\n",
              "    </tr>\n",
              "    <tr>\n",
              "      <th>3</th>\n",
              "      <td>625204</td>\n",
              "      <td>The Web Developer Bootcamp 2024</td>\n",
              "      <td>https://www.udemy.com/course/the-web-developer...</td>\n",
              "      <td>True</td>\n",
              "      <td>Colt Steele</td>\n",
              "      <td>Development</td>\n",
              "      <td>10 Hours of React just added. Become a Develop...</td>\n",
              "      <td>923815</td>\n",
              "      <td>4.673450</td>\n",
              "      <td>276723</td>\n",
              "      <td>All Levels</td>\n",
              "      <td>The ins and outs of HTML5, CSS3, and Modern Ja...</td>\n",
              "      <td>Course Orientation, Welcome To The Course!, Jo...</td>\n",
              "    </tr>\n",
              "    <tr>\n",
              "      <th>4</th>\n",
              "      <td>1362070</td>\n",
              "      <td>React - The Complete Guide 2024 (incl. Next.js...</td>\n",
              "      <td>https://www.udemy.com/course/react-the-complet...</td>\n",
              "      <td>True</td>\n",
              "      <td>Academind by Maximilian Schwarzmüller, Maximil...</td>\n",
              "      <td>Development</td>\n",
              "      <td>Dive in and learn React.js from scratch! Learn...</td>\n",
              "      <td>909848</td>\n",
              "      <td>4.638643</td>\n",
              "      <td>220051</td>\n",
              "      <td>All Levels</td>\n",
              "      <td>Learn React from the ground up and finish the ...</td>\n",
              "      <td>Getting Started, Welcome To The Course!, What ...</td>\n",
              "    </tr>\n",
              "  </tbody>\n",
              "</table>\n",
              "</div>\n",
              "    <div class=\"colab-df-buttons\">\n",
              "\n",
              "  <div class=\"colab-df-container\">\n",
              "    <button class=\"colab-df-convert\" onclick=\"convertToInteractive('df-7e6d502f-73b5-4f72-9702-b63f08c012d3')\"\n",
              "            title=\"Convert this dataframe to an interactive table.\"\n",
              "            style=\"display:none;\">\n",
              "\n",
              "  <svg xmlns=\"http://www.w3.org/2000/svg\" height=\"24px\" viewBox=\"0 -960 960 960\">\n",
              "    <path d=\"M120-120v-720h720v720H120Zm60-500h600v-160H180v160Zm220 220h160v-160H400v160Zm0 220h160v-160H400v160ZM180-400h160v-160H180v160Zm440 0h160v-160H620v160ZM180-180h160v-160H180v160Zm440 0h160v-160H620v160Z\"/>\n",
              "  </svg>\n",
              "    </button>\n",
              "\n",
              "  <style>\n",
              "    .colab-df-container {\n",
              "      display:flex;\n",
              "      gap: 12px;\n",
              "    }\n",
              "\n",
              "    .colab-df-convert {\n",
              "      background-color: #E8F0FE;\n",
              "      border: none;\n",
              "      border-radius: 50%;\n",
              "      cursor: pointer;\n",
              "      display: none;\n",
              "      fill: #1967D2;\n",
              "      height: 32px;\n",
              "      padding: 0 0 0 0;\n",
              "      width: 32px;\n",
              "    }\n",
              "\n",
              "    .colab-df-convert:hover {\n",
              "      background-color: #E2EBFA;\n",
              "      box-shadow: 0px 1px 2px rgba(60, 64, 67, 0.3), 0px 1px 3px 1px rgba(60, 64, 67, 0.15);\n",
              "      fill: #174EA6;\n",
              "    }\n",
              "\n",
              "    .colab-df-buttons div {\n",
              "      margin-bottom: 4px;\n",
              "    }\n",
              "\n",
              "    [theme=dark] .colab-df-convert {\n",
              "      background-color: #3B4455;\n",
              "      fill: #D2E3FC;\n",
              "    }\n",
              "\n",
              "    [theme=dark] .colab-df-convert:hover {\n",
              "      background-color: #434B5C;\n",
              "      box-shadow: 0px 1px 3px 1px rgba(0, 0, 0, 0.15);\n",
              "      filter: drop-shadow(0px 1px 2px rgba(0, 0, 0, 0.3));\n",
              "      fill: #FFFFFF;\n",
              "    }\n",
              "  </style>\n",
              "\n",
              "    <script>\n",
              "      const buttonEl =\n",
              "        document.querySelector('#df-7e6d502f-73b5-4f72-9702-b63f08c012d3 button.colab-df-convert');\n",
              "      buttonEl.style.display =\n",
              "        google.colab.kernel.accessAllowed ? 'block' : 'none';\n",
              "\n",
              "      async function convertToInteractive(key) {\n",
              "        const element = document.querySelector('#df-7e6d502f-73b5-4f72-9702-b63f08c012d3');\n",
              "        const dataTable =\n",
              "          await google.colab.kernel.invokeFunction('convertToInteractive',\n",
              "                                                    [key], {});\n",
              "        if (!dataTable) return;\n",
              "\n",
              "        const docLinkHtml = 'Like what you see? Visit the ' +\n",
              "          '<a target=\"_blank\" href=https://colab.research.google.com/notebooks/data_table.ipynb>data table notebook</a>'\n",
              "          + ' to learn more about interactive tables.';\n",
              "        element.innerHTML = '';\n",
              "        dataTable['output_type'] = 'display_data';\n",
              "        await google.colab.output.renderOutput(dataTable, element);\n",
              "        const docLink = document.createElement('div');\n",
              "        docLink.innerHTML = docLinkHtml;\n",
              "        element.appendChild(docLink);\n",
              "      }\n",
              "    </script>\n",
              "  </div>\n",
              "\n",
              "\n",
              "<div id=\"df-b6ee92db-211f-48f5-9e42-a308c2d2ffcd\">\n",
              "  <button class=\"colab-df-quickchart\" onclick=\"quickchart('df-b6ee92db-211f-48f5-9e42-a308c2d2ffcd')\"\n",
              "            title=\"Suggest charts\"\n",
              "            style=\"display:none;\">\n",
              "\n",
              "<svg xmlns=\"http://www.w3.org/2000/svg\" height=\"24px\"viewBox=\"0 0 24 24\"\n",
              "     width=\"24px\">\n",
              "    <g>\n",
              "        <path d=\"M19 3H5c-1.1 0-2 .9-2 2v14c0 1.1.9 2 2 2h14c1.1 0 2-.9 2-2V5c0-1.1-.9-2-2-2zM9 17H7v-7h2v7zm4 0h-2V7h2v10zm4 0h-2v-4h2v4z\"/>\n",
              "    </g>\n",
              "</svg>\n",
              "  </button>\n",
              "\n",
              "<style>\n",
              "  .colab-df-quickchart {\n",
              "      --bg-color: #E8F0FE;\n",
              "      --fill-color: #1967D2;\n",
              "      --hover-bg-color: #E2EBFA;\n",
              "      --hover-fill-color: #174EA6;\n",
              "      --disabled-fill-color: #AAA;\n",
              "      --disabled-bg-color: #DDD;\n",
              "  }\n",
              "\n",
              "  [theme=dark] .colab-df-quickchart {\n",
              "      --bg-color: #3B4455;\n",
              "      --fill-color: #D2E3FC;\n",
              "      --hover-bg-color: #434B5C;\n",
              "      --hover-fill-color: #FFFFFF;\n",
              "      --disabled-bg-color: #3B4455;\n",
              "      --disabled-fill-color: #666;\n",
              "  }\n",
              "\n",
              "  .colab-df-quickchart {\n",
              "    background-color: var(--bg-color);\n",
              "    border: none;\n",
              "    border-radius: 50%;\n",
              "    cursor: pointer;\n",
              "    display: none;\n",
              "    fill: var(--fill-color);\n",
              "    height: 32px;\n",
              "    padding: 0;\n",
              "    width: 32px;\n",
              "  }\n",
              "\n",
              "  .colab-df-quickchart:hover {\n",
              "    background-color: var(--hover-bg-color);\n",
              "    box-shadow: 0 1px 2px rgba(60, 64, 67, 0.3), 0 1px 3px 1px rgba(60, 64, 67, 0.15);\n",
              "    fill: var(--button-hover-fill-color);\n",
              "  }\n",
              "\n",
              "  .colab-df-quickchart-complete:disabled,\n",
              "  .colab-df-quickchart-complete:disabled:hover {\n",
              "    background-color: var(--disabled-bg-color);\n",
              "    fill: var(--disabled-fill-color);\n",
              "    box-shadow: none;\n",
              "  }\n",
              "\n",
              "  .colab-df-spinner {\n",
              "    border: 2px solid var(--fill-color);\n",
              "    border-color: transparent;\n",
              "    border-bottom-color: var(--fill-color);\n",
              "    animation:\n",
              "      spin 1s steps(1) infinite;\n",
              "  }\n",
              "\n",
              "  @keyframes spin {\n",
              "    0% {\n",
              "      border-color: transparent;\n",
              "      border-bottom-color: var(--fill-color);\n",
              "      border-left-color: var(--fill-color);\n",
              "    }\n",
              "    20% {\n",
              "      border-color: transparent;\n",
              "      border-left-color: var(--fill-color);\n",
              "      border-top-color: var(--fill-color);\n",
              "    }\n",
              "    30% {\n",
              "      border-color: transparent;\n",
              "      border-left-color: var(--fill-color);\n",
              "      border-top-color: var(--fill-color);\n",
              "      border-right-color: var(--fill-color);\n",
              "    }\n",
              "    40% {\n",
              "      border-color: transparent;\n",
              "      border-right-color: var(--fill-color);\n",
              "      border-top-color: var(--fill-color);\n",
              "    }\n",
              "    60% {\n",
              "      border-color: transparent;\n",
              "      border-right-color: var(--fill-color);\n",
              "    }\n",
              "    80% {\n",
              "      border-color: transparent;\n",
              "      border-right-color: var(--fill-color);\n",
              "      border-bottom-color: var(--fill-color);\n",
              "    }\n",
              "    90% {\n",
              "      border-color: transparent;\n",
              "      border-bottom-color: var(--fill-color);\n",
              "    }\n",
              "  }\n",
              "</style>\n",
              "\n",
              "  <script>\n",
              "    async function quickchart(key) {\n",
              "      const quickchartButtonEl =\n",
              "        document.querySelector('#' + key + ' button');\n",
              "      quickchartButtonEl.disabled = true;  // To prevent multiple clicks.\n",
              "      quickchartButtonEl.classList.add('colab-df-spinner');\n",
              "      try {\n",
              "        const charts = await google.colab.kernel.invokeFunction(\n",
              "            'suggestCharts', [key], {});\n",
              "      } catch (error) {\n",
              "        console.error('Error during call to suggestCharts:', error);\n",
              "      }\n",
              "      quickchartButtonEl.classList.remove('colab-df-spinner');\n",
              "      quickchartButtonEl.classList.add('colab-df-quickchart-complete');\n",
              "    }\n",
              "    (() => {\n",
              "      let quickchartButtonEl =\n",
              "        document.querySelector('#df-b6ee92db-211f-48f5-9e42-a308c2d2ffcd button');\n",
              "      quickchartButtonEl.style.display =\n",
              "        google.colab.kernel.accessAllowed ? 'block' : 'none';\n",
              "    })();\n",
              "  </script>\n",
              "</div>\n",
              "\n",
              "    </div>\n",
              "  </div>\n"
            ],
            "application/vnd.google.colaboratory.intrinsic+json": {
              "type": "dataframe",
              "variable_name": "df_udemy",
              "summary": "{\n  \"name\": \"df_udemy\",\n  \"rows\": 98104,\n  \"fields\": [\n    {\n      \"column\": \"id\",\n      \"properties\": {\n        \"dtype\": \"number\",\n        \"std\": 1817397,\n        \"min\": 2762,\n        \"max\": 6267057,\n        \"num_unique_values\": 98104,\n        \"samples\": [\n          2600490,\n          33677,\n          4152428\n        ],\n        \"semantic_type\": \"\",\n        \"description\": \"\"\n      }\n    },\n    {\n      \"column\": \"title\",\n      \"properties\": {\n        \"dtype\": \"string\",\n        \"num_unique_values\": 97678,\n        \"samples\": [\n          \"How to Become a DJ - Learn How to Start DJing Online Today\",\n          \"DJI Drones: How To Become The Ultimate Pilot\",\n          \"Hot Stone Facial Massage\"\n        ],\n        \"semantic_type\": \"\",\n        \"description\": \"\"\n      }\n    },\n    {\n      \"column\": \"url\",\n      \"properties\": {\n        \"dtype\": \"string\",\n        \"num_unique_values\": 98104,\n        \"samples\": [\n          \"https://www.udemy.com/course/woodworking-router-table-essentials/\",\n          \"https://www.udemy.com/course/pay-per-click-advert/\",\n          \"https://www.udemy.com/course/photography-for-beginners-course-a-complete-guide/\"\n        ],\n        \"semantic_type\": \"\",\n        \"description\": \"\"\n      }\n    },\n    {\n      \"column\": \"is_paid\",\n      \"properties\": {\n        \"dtype\": \"boolean\",\n        \"num_unique_values\": 2,\n        \"samples\": [\n          false,\n          true\n        ],\n        \"semantic_type\": \"\",\n        \"description\": \"\"\n      }\n    },\n    {\n      \"column\": \"instructor_names\",\n      \"properties\": {\n        \"dtype\": \"category\",\n        \"num_unique_values\": 36973,\n        \"samples\": [\n          \"Johannes Regier\",\n          \"Maddy Woolf\"\n        ],\n        \"semantic_type\": \"\",\n        \"description\": \"\"\n      }\n    },\n    {\n      \"column\": \"category\",\n      \"properties\": {\n        \"dtype\": \"category\",\n        \"num_unique_values\": 13,\n        \"samples\": [\n          \"Music\",\n          \"Photography & Video\"\n        ],\n        \"semantic_type\": \"\",\n        \"description\": \"\"\n      }\n    },\n    {\n      \"column\": \"headline\",\n      \"properties\": {\n        \"dtype\": \"string\",\n        \"num_unique_values\": 95854,\n        \"samples\": [\n          \"100% Original material with 100% Success, 6 complete timed practice tests for AZ-900 Azure Fundamentals exam\",\n          \"Go from Zero to Hero and Turn Embedded Systems from a Hobby to a Career Path\"\n        ],\n        \"semantic_type\": \"\",\n        \"description\": \"\"\n      }\n    },\n    {\n      \"column\": \"num_subscribers\",\n      \"properties\": {\n        \"dtype\": \"number\",\n        \"std\": 24440,\n        \"min\": 0,\n        \"max\": 1976866,\n        \"num_unique_values\": 18854,\n        \"samples\": [\n          24251,\n          30169\n        ],\n        \"semantic_type\": \"\",\n        \"description\": \"\"\n      }\n    },\n    {\n      \"column\": \"rating\",\n      \"properties\": {\n        \"dtype\": \"number\",\n        \"std\": 1.09170110279242,\n        \"min\": 0.0,\n        \"max\": 5.0000005,\n        \"num_unique_values\": 84837,\n        \"samples\": [\n          3.9474518,\n          4.1723113\n        ],\n        \"semantic_type\": \"\",\n        \"description\": \"\"\n      }\n    },\n    {\n      \"column\": \"num_reviews\",\n      \"properties\": {\n        \"dtype\": \"number\",\n        \"std\": 4728,\n        \"min\": 0,\n        \"max\": 521219,\n        \"num_unique_values\": 5062,\n        \"samples\": [\n          55235,\n          3366\n        ],\n        \"semantic_type\": \"\",\n        \"description\": \"\"\n      }\n    },\n    {\n      \"column\": \"instructional_level\",\n      \"properties\": {\n        \"dtype\": \"category\",\n        \"num_unique_values\": 4,\n        \"samples\": [\n          \"Beginner Level\",\n          \"Expert Level\"\n        ],\n        \"semantic_type\": \"\",\n        \"description\": \"\"\n      }\n    },\n    {\n      \"column\": \"objectives\",\n      \"properties\": {\n        \"dtype\": \"string\",\n        \"num_unique_values\": 96453,\n        \"samples\": [\n          \"Define forensic and investigative sciences, and describe the scope of application; describe problem-solving principles and organize typical operational protocols used in forensic science; recognized the scientific basis, application of tools, and techniques in forensic science; and critique how popular culture (i.e. television and movies) treat the forensic sciences.\",\n          \"Need of web scraping Introduction to web scraping How to extract your desired data from websites\"\n        ],\n        \"semantic_type\": \"\",\n        \"description\": \"\"\n      }\n    },\n    {\n      \"column\": \"curriculum\",\n      \"properties\": {\n        \"dtype\": \"string\",\n        \"num_unique_values\": 97698,\n        \"samples\": [\n          \"Practice Question for Google Analytics Certification, Section Introduction, Congratulation !!!, Useful instruction for Google Analytics Certification test, Thankyou\",\n          \"Course Preparation - Introduction, Introduction, The Work Of Leoni Hodgson, Course Preparation - The Seven Rays, Introducing The Seven Rays, Ray One, Ray Two, Ray Three, Ray Four, Ray Five, Ray Six, Ray Seven, Course Preparation Extra - The Seven Rays & Reiki With Nick Mparalos, Extra - Reiki And The Seven Rays - Nick Mparalos, Extra - The Seven Rays Applied - Nick Mparalos, Course Preparation - The Chakras, Introducing The Chakras & The Etheric Web, Course Preparation - The Signs & Medical Astrology, Introduction & Fire Signs, Earth Signs, Air Signs, Water Signs, Course Preparation - The Planets & Medical Astrology, The Planets & Medical Astrology, Leoni Hodgson - Medical Astrology Zoom Classes, Session One - Course Goals & Overview, Session Two - Mythology& Signs - Body & Disease - Sun To Venus, Session Three - Mythology& Signs - Body & Disease - Mars To Pluto, Session Four - Using Triangles For Disease Diagnosis, Session Five - Timing Of Disease - Progressions, Directions & Transits, Session Six - A Structure For Health Readings\"\n        ],\n        \"semantic_type\": \"\",\n        \"description\": \"\"\n      }\n    }\n  ]\n}"
            }
          },
          "metadata": {},
          "execution_count": 66
        }
      ]
    },
    {
      "cell_type": "code",
      "source": [
        "df_udemy.drop([\"url\",\"is_paid\",\"headline\",\"objectives\",\"curriculum\"],axis=\"columns\")"
      ],
      "metadata": {
        "id": "RO4ZTqnV0Fj-"
      },
      "execution_count": null,
      "outputs": []
    },
    {
      "cell_type": "code",
      "source": [
        "df_udemy.isnull().sum()"
      ],
      "metadata": {
        "id": "yI-x2OvKt0fC"
      },
      "execution_count": null,
      "outputs": []
    },
    {
      "cell_type": "markdown",
      "source": [
        "## 1. Which course overall has the maximum number of enrollments?"
      ],
      "metadata": {
        "id": "PLUnxvNLvzBP"
      }
    },
    {
      "cell_type": "code",
      "source": [
        "overall_max_enrolled_course = df_udemy['num_subscribers'].max()\n",
        "overall_max_enrolled_course"
      ],
      "metadata": {
        "id": "DSdVXSf1u-Ql"
      },
      "execution_count": null,
      "outputs": []
    },
    {
      "cell_type": "code",
      "source": [
        "df_udemy[df_udemy['num_subscribers']==overall_max_enrolled_course]"
      ],
      "metadata": {
        "id": "FK_QTL7Pvl5p"
      },
      "execution_count": null,
      "outputs": []
    },
    {
      "cell_type": "markdown",
      "metadata": {
        "id": "AUbRS-1WrEBx"
      },
      "source": [
        "##### From the analysis, it is clear that \"The Complete Python Bootcamp From Zero to Hero\" is the highly enrolled course with 1976866 subscribers in Udemy."
      ]
    },
    {
      "cell_type": "markdown",
      "metadata": {
        "id": "IHSPnpB6rEBx"
      },
      "source": [
        "## 2. Which courses overall has the minimum subscribers/ minimum number of enrollment?"
      ]
    },
    {
      "cell_type": "code",
      "execution_count": null,
      "metadata": {
        "id": "dyYs3HgSrEBx"
      },
      "outputs": [],
      "source": [
        "overall_min_enrolled_courses = df_udemy['num_subscribers'].min()\n",
        "df_min = df_udemy[df_udemy['num_subscribers']==overall_min_enrolled_courses]\n",
        "df_min"
      ]
    },
    {
      "cell_type": "code",
      "source": [
        "df_min.shape"
      ],
      "metadata": {
        "id": "QEJ5tcyDzSh1"
      },
      "execution_count": null,
      "outputs": []
    },
    {
      "cell_type": "code",
      "source": [
        "plt.plot(df_min['category'],df_min['num_subscribers'])\n",
        "plt.ylabel('Number of subscribers')\n",
        "plt.xlabel('Category')\n",
        "plt.show()"
      ],
      "metadata": {
        "id": "lZoRztVGzWiW"
      },
      "execution_count": null,
      "outputs": []
    },
    {
      "cell_type": "markdown",
      "source": [
        "##### It is clear that 1799 of 98104 courses are not enrolled by any number of subscribers. The number of subscribers is 0 in the case."
      ],
      "metadata": {
        "id": "R2cgDPrR0S5-"
      }
    },
    {
      "cell_type": "markdown",
      "source": [
        "## 3. Which of the subjects in this dataset has maximum and minimum enrollments?"
      ],
      "metadata": {
        "id": "H1BU2xXuyDva"
      }
    },
    {
      "cell_type": "code",
      "source": [
        "df_subjectwise = df_udemy.groupby(['category'],as_index=False)['num_subscribers'].sum()\n",
        "df_subjectwise = pd.DataFrame(df_subjectwise)\n",
        "df_subjectwise"
      ],
      "metadata": {
        "id": "-bsAnsksx1AE"
      },
      "execution_count": null,
      "outputs": []
    },
    {
      "cell_type": "code",
      "source": [
        "plt.bar(df_subjectwise['category'],df_subjectwise['num_subscribers'])\n",
        "plt.xticks(rotation=90)\n",
        "plt.ylabel('Number of subscribers')\n",
        "plt.xlabel('Category')\n",
        "plt.show()"
      ],
      "metadata": {
        "id": "MVPFTaQjyFwF"
      },
      "execution_count": null,
      "outputs": []
    },
    {
      "cell_type": "code",
      "source": [
        "plt.plot(df_subjectwise['category'],df_subjectwise['num_subscribers'])\n",
        "plt.xticks(rotation=90)\n",
        "plt.ylabel('Number of subscribers - levelwise')\n",
        "plt.xlabel('Category')\n",
        "plt.show()"
      ],
      "metadata": {
        "id": "yonPE6bw0obG"
      },
      "execution_count": null,
      "outputs": []
    },
    {
      "cell_type": "code",
      "source": [
        "ms1 = df_subjectwise['num_subscribers'].max()\n",
        "ms1"
      ],
      "metadata": {
        "id": "ySrTuc6G0wfO"
      },
      "execution_count": null,
      "outputs": []
    },
    {
      "cell_type": "code",
      "source": [
        "df_subjectwise[df_subjectwise['num_subscribers']==ms1]"
      ],
      "metadata": {
        "id": "IXbqwjz71DJX"
      },
      "execution_count": null,
      "outputs": []
    },
    {
      "cell_type": "code",
      "source": [
        "ms2 = df_subjectwise['num_subscribers'].min()\n",
        "ms2"
      ],
      "metadata": {
        "id": "vdwkMWas03Gm"
      },
      "execution_count": null,
      "outputs": []
    },
    {
      "cell_type": "code",
      "source": [
        "df_subjectwise[df_subjectwise['num_subscribers']==ms2]"
      ],
      "metadata": {
        "id": "1_8h5Lsb08kA"
      },
      "execution_count": null,
      "outputs": []
    },
    {
      "cell_type": "markdown",
      "source": [
        "From the above insight, it is clear that \"Development\" has the most number of subscribers with total of 164405095 subscribers. And, the minimum enrollments are for the subject \"Music\" which has 8373452 subscribers"
      ],
      "metadata": {
        "id": "oJd37RBv1Hge"
      }
    },
    {
      "cell_type": "markdown",
      "source": [
        "## 4. Which level courses has maximum users and minimum users subscribed?\n"
      ],
      "metadata": {
        "id": "hJBQNAFd1YOB"
      }
    },
    {
      "cell_type": "code",
      "source": [
        "df_levelwise = df_udemy.groupby(['instructional_level'],as_index=False)['num_subscribers'].sum()\n",
        "df_levelwise = pd.DataFrame(df_levelwise)"
      ],
      "metadata": {
        "id": "OCVOVsrJ1BFc"
      },
      "execution_count": null,
      "outputs": []
    },
    {
      "cell_type": "code",
      "source": [
        "df_levelwise"
      ],
      "metadata": {
        "id": "lyLUkfko1fOD"
      },
      "execution_count": null,
      "outputs": []
    },
    {
      "cell_type": "code",
      "source": [
        "plt.bar(df_levelwise['instructional_level'],df_levelwise['num_subscribers'])\n",
        "plt.xticks(rotation=90)\n",
        "plt.ylabel('Number of subscribers - levelwise')\n",
        "plt.xlabel('Instructional Level')\n",
        "plt.show()"
      ],
      "metadata": {
        "id": "-11i3eAY1pmJ"
      },
      "execution_count": null,
      "outputs": []
    },
    {
      "cell_type": "code",
      "source": [
        "plt.plot(df_levelwise['instructional_level'],df_levelwise['num_subscribers'])\n",
        "plt.xticks(rotation=90)\n",
        "plt.ylabel('Number of subscribers - levelwise')\n",
        "plt.xlabel('Instructional Level')\n",
        "plt.show()"
      ],
      "metadata": {
        "id": "ym4UZCjN1xIC"
      },
      "execution_count": null,
      "outputs": []
    },
    {
      "cell_type": "code",
      "source": [
        "ml1 = df_levelwise['num_subscribers'].max()"
      ],
      "metadata": {
        "id": "loxc53H719Hj"
      },
      "execution_count": null,
      "outputs": []
    },
    {
      "cell_type": "code",
      "source": [
        "df_levelwise[df_levelwise['num_subscribers']==ml1]"
      ],
      "metadata": {
        "id": "Uwy4e8Oo2E4D"
      },
      "execution_count": null,
      "outputs": []
    },
    {
      "cell_type": "code",
      "source": [
        "ml2 = df_levelwise['num_subscribers'].min()\n",
        "ml2"
      ],
      "metadata": {
        "id": "h9xzOwEb2Ipz"
      },
      "execution_count": null,
      "outputs": []
    },
    {
      "cell_type": "code",
      "source": [
        "df_levelwise[df_levelwise['num_subscribers']==ml2]"
      ],
      "metadata": {
        "id": "PdhkW1KJ2QeT"
      },
      "execution_count": null,
      "outputs": []
    },
    {
      "cell_type": "markdown",
      "source": [
        "##### The maximum users have, thus, subscribed to the \"All levels\" category courses with 349589951 number of users enrolled.\n",
        "\n",
        "###### The \"Expert level\" courses has minimum number of subscribers with 5128200 users enrolled.\n"
      ],
      "metadata": {
        "id": "o9hVgaSS2YvJ"
      }
    },
    {
      "cell_type": "markdown",
      "source": [
        "## 5. Which course overall has the maximum number of reviews?"
      ],
      "metadata": {
        "id": "sEXIGH-uaxY3"
      }
    },
    {
      "cell_type": "code",
      "source": [
        "overall_max_number_of_ratings_course = df_udemy['num_reviews'].max()\n",
        "overall_max_number_of_ratings_course\n",
        "\n",
        "df_udemy[df_udemy['num_reviews']==overall_max_number_of_ratings_course]"
      ],
      "metadata": {
        "id": "RG_4jZHp2UoO"
      },
      "execution_count": null,
      "outputs": []
    },
    {
      "cell_type": "markdown",
      "source": [
        "We can conclude that \"The Complete Python Bootcamp From Zero to Hero\" is the course with the maximum number of total reviews. It got 521219 reviews in total."
      ],
      "metadata": {
        "id": "8qKENAfhcH_h"
      }
    },
    {
      "cell_type": "markdown",
      "source": [
        "## 6. How many course/courses overall have the minimum number of reviews?"
      ],
      "metadata": {
        "id": "TUI4Fh6ea6bw"
      }
    },
    {
      "cell_type": "code",
      "source": [
        "overall_min_number_of_ratings_course = df_udemy['num_reviews'].min()\n",
        "df_min_rev = df_udemy[df_udemy['num_reviews']==overall_min_number_of_ratings_course]\n",
        "df_min_rev"
      ],
      "metadata": {
        "id": "rj3tN1gScBet"
      },
      "execution_count": null,
      "outputs": []
    },
    {
      "cell_type": "code",
      "source": [
        "df_min_rev.shape"
      ],
      "metadata": {
        "id": "tBVSqAMjcke4"
      },
      "execution_count": null,
      "outputs": []
    },
    {
      "cell_type": "code",
      "source": [
        "plt.plot(df_min_rev['category'],df_min_rev['num_reviews'])\n",
        "plt.ylabel('Number of reviews')\n",
        "plt.xlabel('Category')\n",
        "plt.show()"
      ],
      "metadata": {
        "id": "nEIphBQIcmrf"
      },
      "execution_count": null,
      "outputs": []
    },
    {
      "cell_type": "markdown",
      "source": [
        "##### It is clear that 5355 of 98104 courses are not reviewed by any number of subscribers. The number of reviews is 0 in these cases."
      ],
      "metadata": {
        "id": "VHb15_aRdA5-"
      }
    },
    {
      "cell_type": "markdown",
      "source": [
        "##7. Which course has the highest rating?"
      ],
      "metadata": {
        "id": "jUjj2_zDddOZ"
      }
    },
    {
      "cell_type": "markdown",
      "source": [
        "We are going to limit the dataframe to only the top 2000 courses according to the number of subscribers to get a better analysis."
      ],
      "metadata": {
        "id": "KKRTK7Oseevl"
      }
    },
    {
      "cell_type": "code",
      "source": [
        "df_2000 = df_udemy.sort_values(\"num_subscribers\",ascending=False).head(2000)"
      ],
      "metadata": {
        "id": "hdA49yl5e2be"
      },
      "execution_count": null,
      "outputs": []
    },
    {
      "cell_type": "code",
      "source": [
        "overall_max_rating = df_2000['rating'].max()\n",
        "df_max_rat = df_2000[df_2000['rating']==overall_max_rating]\n",
        "df_max_rat"
      ],
      "metadata": {
        "id": "QD5voWM0c6R0"
      },
      "execution_count": null,
      "outputs": []
    },
    {
      "cell_type": "markdown",
      "source": [
        "We can conclude that \"Python Developer Job Interview Prep\" is the course with the maxiumum rating of 5.0 in the top 2000 most popular courses on Udemy."
      ],
      "metadata": {
        "id": "dgcOKu6Rff9f"
      }
    },
    {
      "cell_type": "markdown",
      "source": [
        "#Top K-filtering Method\n",
        "\n",
        "Top-K is a probabilistic data structure that allows you to find the most frequent items in a data stream.\n",
        "\n",
        "We are going to consider the top 2000 courses in the dataset now."
      ],
      "metadata": {
        "id": "MU1gjJuwnmHT"
      }
    },
    {
      "cell_type": "markdown",
      "source": [
        "##8. Which category has the maximum reviews?\n",
        "\n",
        "We are going to consider the top 2000 popular courses for this again.\n",
        "\n"
      ],
      "metadata": {
        "id": "xJ3cs1AIdlYy"
      }
    },
    {
      "cell_type": "code",
      "source": [
        "df_subjectwise_rat = df_2000.groupby(['category'],as_index=False)['num_reviews'].sum()\n",
        "df_subjectwise_rat = pd.DataFrame(df_subjectwise_rat)\n",
        "df_subjectwise_rat"
      ],
      "metadata": {
        "id": "x8KC5LEedpUW"
      },
      "execution_count": null,
      "outputs": []
    },
    {
      "cell_type": "code",
      "source": [
        "plt.bar(df_subjectwise_rat['category'],df_subjectwise_rat['num_reviews'])\n",
        "plt.xticks(rotation=90)\n",
        "plt.ylabel('Number of reviews')\n",
        "plt.xlabel('Category')\n",
        "plt.show()"
      ],
      "metadata": {
        "id": "tunepwsYhr6-"
      },
      "execution_count": null,
      "outputs": []
    },
    {
      "cell_type": "code",
      "source": [
        "plt.plot(df_subjectwise_rat['category'],df_subjectwise_rat['num_reviews'])\n",
        "plt.xticks(rotation=90)\n",
        "plt.ylabel('Number of reviwes')\n",
        "plt.xlabel('Category')\n",
        "plt.show()"
      ],
      "metadata": {
        "id": "0Og22c-0h4yH"
      },
      "execution_count": null,
      "outputs": []
    },
    {
      "cell_type": "markdown",
      "source": [
        "The category \"Development\" has a total of 10183519 reviews making it most reviewed category on Udemy."
      ],
      "metadata": {
        "id": "E40gZ0jLhRy1"
      }
    },
    {
      "cell_type": "markdown",
      "source": [
        "##9. What is the correlation between the number of reviews and the number of subscribers?"
      ],
      "metadata": {
        "id": "01l3r54Idp4A"
      }
    },
    {
      "cell_type": "code",
      "source": [
        "p_correlation_reviews = df_2000[\"num_reviews\"].corr(df_2000[\"num_subscribers\"])\n",
        "print(\"The correlation between the number of reviews and the number of subscribers is\",p_correlation_reviews)"
      ],
      "metadata": {
        "id": "eMv6nASnd5M_"
      },
      "execution_count": null,
      "outputs": []
    },
    {
      "cell_type": "code",
      "source": [
        "plt.scatter(x=df_2000[\"num_reviews\"], y=df_2000[\"num_subscribers\"])\n",
        "\n",
        "\n",
        "# Label axes\n",
        "plt.xlabel(\"Number of Reviews\")\n",
        "plt.ylabel([\"Subscribers\"])\n",
        "\n",
        "# Add title\n",
        "plt.title(\"Top 2000 Courses: Reviews vs. Subscribers\")"
      ],
      "metadata": {
        "id": "rrMGScHVktSI"
      },
      "execution_count": null,
      "outputs": []
    },
    {
      "cell_type": "markdown",
      "source": [
        "Hence there is a correlation betwwen the number of reviews and the number of subscribers for the 2000 most popular courses on Udemy."
      ],
      "metadata": {
        "id": "KMgG3XpOixUC"
      }
    },
    {
      "cell_type": "markdown",
      "source": [
        "##10. What is the correlation between the overall course rating and the number of subscribers?"
      ],
      "metadata": {
        "id": "rTnl5XQGd0R4"
      }
    },
    {
      "cell_type": "code",
      "source": [
        "p_correlation_rat = df_2000[\"rating\"].corr(df_2000[\"num_subscribers\"])\n",
        "print(\"The correlation between the number of reviews and the number of subscribers is\",p_correlation_rat)"
      ],
      "metadata": {
        "id": "Pg8ziO0miv3k"
      },
      "execution_count": null,
      "outputs": []
    },
    {
      "cell_type": "markdown",
      "source": [
        "As the correlation constant is less than 0.5, we can conclude that there is no correlation between the overall course rating and the number of reviews."
      ],
      "metadata": {
        "id": "kLJ2MQBOjGPm"
      }
    },
    {
      "cell_type": "markdown",
      "source": [
        "#Conclusion\n",
        "\n",
        "From this data analysis, we can conclude that the \"Development\" category has the most demand in the market and courses oriented around Python Development are the most liked and in-demand."
      ],
      "metadata": {
        "id": "l08PId35jXOS"
      }
    }
  ]
}